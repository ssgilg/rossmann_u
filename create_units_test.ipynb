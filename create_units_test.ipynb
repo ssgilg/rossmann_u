{
 "cells": [
  {
   "cell_type": "code",
   "execution_count": 1,
   "id": "e394d491-53ec-4a70-9ed4-44a290b83b35",
   "metadata": {},
   "outputs": [],
   "source": [
    "import pandas as pd\n",
    "import numpy as np\n",
    "import matplotlib.pyplot as plt\n",
    "import seaborn as sns\n",
    "from statsmodels.tsa.seasonal import seasonal_decompose\n",
    "from statsmodels.graphics.tsaplots import plot_acf\n",
    "import datetime\n",
    "sns.set_style('whitegrid')\n",
    "import warnings\n",
    "warnings.filterwarnings(\"ignore\")\n",
    "%matplotlib inline"
   ]
  },
  {
   "cell_type": "code",
   "execution_count": 84,
   "id": "ee7881f8-b015-489f-9c8b-e0c8a24d2f3a",
   "metadata": {
    "tags": []
   },
   "outputs": [],
   "source": [
    "from prophet import Prophet"
   ]
  },
  {
   "cell_type": "code",
   "execution_count": 114,
   "id": "4ef62f8d-9db0-4c46-97fa-1052c101e86d",
   "metadata": {},
   "outputs": [],
   "source": [
    "from datetime import datetime\n",
    "from datetime import timedelta\n",
    "\n",
    "import plotly.graph_objects as go\n",
    "import plotly.express as px\n",
    "\n",
    "from metrics import rmse, rmsep,  rmspe\n",
    "from plot_methods import *\n"
   ]
  },
  {
   "cell_type": "code",
   "execution_count": 2,
   "id": "d3cd04d3-0546-47a2-b55a-59f58b527f8c",
   "metadata": {},
   "outputs": [],
   "source": [
    "train = pd.read_csv(\"data/train.csv\", \n",
    "                    parse_dates = True, low_memory = False)\n",
    "\n",
    "store = pd.read_csv(\"data/store.csv\", \n",
    "                    parse_dates = True, low_memory = False)"
   ]
  },
  {
   "cell_type": "code",
   "execution_count": 44,
   "id": "c6f87f0f-b5fa-4a85-90af-da0a75825674",
   "metadata": {},
   "outputs": [
    {
     "name": "stdout",
     "output_type": "stream",
     "text": [
      "Joining train set with an additional store information.\n"
     ]
    }
   ],
   "source": [
    "print(\"Joining train set with an additional store information.\")\n",
    "# by specifying inner join we make sure that only those observations \n",
    "# that are present in both train and store sets are merged together\n",
    "train_store = pd.merge(train, store, how = 'inner', on = 'Store')"
   ]
  },
  {
   "cell_type": "code",
   "execution_count": 45,
   "id": "f9bcc69b-83b1-4fc1-bff7-319e75c3ec1d",
   "metadata": {},
   "outputs": [],
   "source": [
    "train_store = train_store.drop(columns=['Open','Promo','StateHoliday', 'Assortment','CompetitionDistance','CompetitionOpenSinceMonth','CompetitionOpenSinceYear','Promo2','Promo2SinceWeek','Promo2SinceYear','PromoInterval'])"
   ]
  },
  {
   "cell_type": "code",
   "execution_count": 46,
   "id": "bbe2a901-7da3-4240-aee8-0a2318a938a7",
   "metadata": {},
   "outputs": [
    {
     "data": {
      "text/html": [
       "<div>\n",
       "<style scoped>\n",
       "    .dataframe tbody tr th:only-of-type {\n",
       "        vertical-align: middle;\n",
       "    }\n",
       "\n",
       "    .dataframe tbody tr th {\n",
       "        vertical-align: top;\n",
       "    }\n",
       "\n",
       "    .dataframe thead th {\n",
       "        text-align: right;\n",
       "    }\n",
       "</style>\n",
       "<table border=\"1\" class=\"dataframe\">\n",
       "  <thead>\n",
       "    <tr style=\"text-align: right;\">\n",
       "      <th></th>\n",
       "      <th>Store</th>\n",
       "      <th>DayOfWeek</th>\n",
       "      <th>Date</th>\n",
       "      <th>Sales</th>\n",
       "      <th>Customers</th>\n",
       "      <th>SchoolHoliday</th>\n",
       "      <th>StoreType</th>\n",
       "    </tr>\n",
       "  </thead>\n",
       "  <tbody>\n",
       "    <tr>\n",
       "      <th>0</th>\n",
       "      <td>1</td>\n",
       "      <td>5</td>\n",
       "      <td>2015-07-31</td>\n",
       "      <td>5263</td>\n",
       "      <td>555</td>\n",
       "      <td>1</td>\n",
       "      <td>c</td>\n",
       "    </tr>\n",
       "    <tr>\n",
       "      <th>1</th>\n",
       "      <td>1</td>\n",
       "      <td>4</td>\n",
       "      <td>2015-07-30</td>\n",
       "      <td>5020</td>\n",
       "      <td>546</td>\n",
       "      <td>1</td>\n",
       "      <td>c</td>\n",
       "    </tr>\n",
       "    <tr>\n",
       "      <th>2</th>\n",
       "      <td>1</td>\n",
       "      <td>3</td>\n",
       "      <td>2015-07-29</td>\n",
       "      <td>4782</td>\n",
       "      <td>523</td>\n",
       "      <td>1</td>\n",
       "      <td>c</td>\n",
       "    </tr>\n",
       "    <tr>\n",
       "      <th>3</th>\n",
       "      <td>1</td>\n",
       "      <td>2</td>\n",
       "      <td>2015-07-28</td>\n",
       "      <td>5011</td>\n",
       "      <td>560</td>\n",
       "      <td>1</td>\n",
       "      <td>c</td>\n",
       "    </tr>\n",
       "    <tr>\n",
       "      <th>4</th>\n",
       "      <td>1</td>\n",
       "      <td>1</td>\n",
       "      <td>2015-07-27</td>\n",
       "      <td>6102</td>\n",
       "      <td>612</td>\n",
       "      <td>1</td>\n",
       "      <td>c</td>\n",
       "    </tr>\n",
       "    <tr>\n",
       "      <th>...</th>\n",
       "      <td>...</td>\n",
       "      <td>...</td>\n",
       "      <td>...</td>\n",
       "      <td>...</td>\n",
       "      <td>...</td>\n",
       "      <td>...</td>\n",
       "      <td>...</td>\n",
       "    </tr>\n",
       "    <tr>\n",
       "      <th>1017204</th>\n",
       "      <td>1115</td>\n",
       "      <td>6</td>\n",
       "      <td>2013-01-05</td>\n",
       "      <td>4771</td>\n",
       "      <td>339</td>\n",
       "      <td>1</td>\n",
       "      <td>d</td>\n",
       "    </tr>\n",
       "    <tr>\n",
       "      <th>1017205</th>\n",
       "      <td>1115</td>\n",
       "      <td>5</td>\n",
       "      <td>2013-01-04</td>\n",
       "      <td>4540</td>\n",
       "      <td>326</td>\n",
       "      <td>1</td>\n",
       "      <td>d</td>\n",
       "    </tr>\n",
       "    <tr>\n",
       "      <th>1017206</th>\n",
       "      <td>1115</td>\n",
       "      <td>4</td>\n",
       "      <td>2013-01-03</td>\n",
       "      <td>4297</td>\n",
       "      <td>300</td>\n",
       "      <td>1</td>\n",
       "      <td>d</td>\n",
       "    </tr>\n",
       "    <tr>\n",
       "      <th>1017207</th>\n",
       "      <td>1115</td>\n",
       "      <td>3</td>\n",
       "      <td>2013-01-02</td>\n",
       "      <td>3697</td>\n",
       "      <td>305</td>\n",
       "      <td>1</td>\n",
       "      <td>d</td>\n",
       "    </tr>\n",
       "    <tr>\n",
       "      <th>1017208</th>\n",
       "      <td>1115</td>\n",
       "      <td>2</td>\n",
       "      <td>2013-01-01</td>\n",
       "      <td>0</td>\n",
       "      <td>0</td>\n",
       "      <td>1</td>\n",
       "      <td>d</td>\n",
       "    </tr>\n",
       "  </tbody>\n",
       "</table>\n",
       "<p>1017209 rows × 7 columns</p>\n",
       "</div>"
      ],
      "text/plain": [
       "         Store  DayOfWeek        Date  Sales  Customers  SchoolHoliday  \\\n",
       "0            1          5  2015-07-31   5263        555              1   \n",
       "1            1          4  2015-07-30   5020        546              1   \n",
       "2            1          3  2015-07-29   4782        523              1   \n",
       "3            1          2  2015-07-28   5011        560              1   \n",
       "4            1          1  2015-07-27   6102        612              1   \n",
       "...        ...        ...         ...    ...        ...            ...   \n",
       "1017204   1115          6  2013-01-05   4771        339              1   \n",
       "1017205   1115          5  2013-01-04   4540        326              1   \n",
       "1017206   1115          4  2013-01-03   4297        300              1   \n",
       "1017207   1115          3  2013-01-02   3697        305              1   \n",
       "1017208   1115          2  2013-01-01      0          0              1   \n",
       "\n",
       "        StoreType  \n",
       "0               c  \n",
       "1               c  \n",
       "2               c  \n",
       "3               c  \n",
       "4               c  \n",
       "...           ...  \n",
       "1017204         d  \n",
       "1017205         d  \n",
       "1017206         d  \n",
       "1017207         d  \n",
       "1017208         d  \n",
       "\n",
       "[1017209 rows x 7 columns]"
      ]
     },
     "execution_count": 46,
     "metadata": {},
     "output_type": "execute_result"
    }
   ],
   "source": [
    "train_store"
   ]
  },
  {
   "cell_type": "code",
   "execution_count": 47,
   "id": "cc5e0e11-1989-4176-85e2-c137f000ce3d",
   "metadata": {},
   "outputs": [],
   "source": [
    "fixed_price = {'itemA': 10.05, 'itemB': 80.01, 'itemC': 5.78, 'itemD': 23.05, 'itemE': 36.98}"
   ]
  },
  {
   "cell_type": "code",
   "execution_count": 48,
   "id": "72bcfb0a-c2e2-44a6-bc54-fc9c45449285",
   "metadata": {},
   "outputs": [],
   "source": [
    "fixed_price\n",
    "values =fixed_price.values() \n",
    "sum_ = sum(values)"
   ]
  },
  {
   "cell_type": "code",
   "execution_count": 49,
   "id": "357f556d-0655-42bd-a1ed-41e7f722a1e4",
   "metadata": {},
   "outputs": [
    {
     "data": {
      "text/plain": [
       "dict_items([('itemA', 10.05), ('itemB', 80.01), ('itemC', 5.78), ('itemD', 23.05), ('itemE', 36.98)])"
      ]
     },
     "execution_count": 49,
     "metadata": {},
     "output_type": "execute_result"
    }
   ],
   "source": [
    "fixed_price.items()\n"
   ]
  },
  {
   "cell_type": "code",
   "execution_count": 50,
   "id": "d8ccc695-bc5e-4c00-91c9-0d30ea24b416",
   "metadata": {},
   "outputs": [],
   "source": [
    "new = {k : v/sum_ for k,v in fixed_price.items()}"
   ]
  },
  {
   "cell_type": "code",
   "execution_count": 51,
   "id": "cd3de807-4820-4170-b11e-aabb65955418",
   "metadata": {},
   "outputs": [],
   "source": [
    "train_store['sales_PA'] = train_store['Sales']/5\n",
    "train_store['sales_PB'] = train_store['Sales']/5\n",
    "train_store['sales_PC'] = train_store['Sales']/5\n",
    "train_store['sales_PD'] = train_store['Sales']/5\n",
    "train_store['sales_PE'] = train_store['Sales']/5"
   ]
  },
  {
   "cell_type": "code",
   "execution_count": 52,
   "id": "22eaf155-946f-4d0e-9781-a6b4779a1020",
   "metadata": {
    "collapsed": true,
    "jupyter": {
     "outputs_hidden": true
    },
    "tags": []
   },
   "outputs": [
    {
     "data": {
      "text/html": [
       "<div>\n",
       "<style scoped>\n",
       "    .dataframe tbody tr th:only-of-type {\n",
       "        vertical-align: middle;\n",
       "    }\n",
       "\n",
       "    .dataframe tbody tr th {\n",
       "        vertical-align: top;\n",
       "    }\n",
       "\n",
       "    .dataframe thead th {\n",
       "        text-align: right;\n",
       "    }\n",
       "</style>\n",
       "<table border=\"1\" class=\"dataframe\">\n",
       "  <thead>\n",
       "    <tr style=\"text-align: right;\">\n",
       "      <th></th>\n",
       "      <th>Store</th>\n",
       "      <th>DayOfWeek</th>\n",
       "      <th>Date</th>\n",
       "      <th>Sales</th>\n",
       "      <th>Customers</th>\n",
       "      <th>SchoolHoliday</th>\n",
       "      <th>StoreType</th>\n",
       "      <th>sales_PA</th>\n",
       "      <th>sales_PB</th>\n",
       "      <th>sales_PC</th>\n",
       "      <th>sales_PD</th>\n",
       "      <th>sales_PE</th>\n",
       "    </tr>\n",
       "  </thead>\n",
       "  <tbody>\n",
       "    <tr>\n",
       "      <th>0</th>\n",
       "      <td>1</td>\n",
       "      <td>5</td>\n",
       "      <td>2015-07-31</td>\n",
       "      <td>5263</td>\n",
       "      <td>555</td>\n",
       "      <td>1</td>\n",
       "      <td>c</td>\n",
       "      <td>1052.6</td>\n",
       "      <td>1052.6</td>\n",
       "      <td>1052.6</td>\n",
       "      <td>1052.6</td>\n",
       "      <td>1052.6</td>\n",
       "    </tr>\n",
       "    <tr>\n",
       "      <th>1</th>\n",
       "      <td>1</td>\n",
       "      <td>4</td>\n",
       "      <td>2015-07-30</td>\n",
       "      <td>5020</td>\n",
       "      <td>546</td>\n",
       "      <td>1</td>\n",
       "      <td>c</td>\n",
       "      <td>1004.0</td>\n",
       "      <td>1004.0</td>\n",
       "      <td>1004.0</td>\n",
       "      <td>1004.0</td>\n",
       "      <td>1004.0</td>\n",
       "    </tr>\n",
       "    <tr>\n",
       "      <th>2</th>\n",
       "      <td>1</td>\n",
       "      <td>3</td>\n",
       "      <td>2015-07-29</td>\n",
       "      <td>4782</td>\n",
       "      <td>523</td>\n",
       "      <td>1</td>\n",
       "      <td>c</td>\n",
       "      <td>956.4</td>\n",
       "      <td>956.4</td>\n",
       "      <td>956.4</td>\n",
       "      <td>956.4</td>\n",
       "      <td>956.4</td>\n",
       "    </tr>\n",
       "    <tr>\n",
       "      <th>3</th>\n",
       "      <td>1</td>\n",
       "      <td>2</td>\n",
       "      <td>2015-07-28</td>\n",
       "      <td>5011</td>\n",
       "      <td>560</td>\n",
       "      <td>1</td>\n",
       "      <td>c</td>\n",
       "      <td>1002.2</td>\n",
       "      <td>1002.2</td>\n",
       "      <td>1002.2</td>\n",
       "      <td>1002.2</td>\n",
       "      <td>1002.2</td>\n",
       "    </tr>\n",
       "    <tr>\n",
       "      <th>4</th>\n",
       "      <td>1</td>\n",
       "      <td>1</td>\n",
       "      <td>2015-07-27</td>\n",
       "      <td>6102</td>\n",
       "      <td>612</td>\n",
       "      <td>1</td>\n",
       "      <td>c</td>\n",
       "      <td>1220.4</td>\n",
       "      <td>1220.4</td>\n",
       "      <td>1220.4</td>\n",
       "      <td>1220.4</td>\n",
       "      <td>1220.4</td>\n",
       "    </tr>\n",
       "    <tr>\n",
       "      <th>...</th>\n",
       "      <td>...</td>\n",
       "      <td>...</td>\n",
       "      <td>...</td>\n",
       "      <td>...</td>\n",
       "      <td>...</td>\n",
       "      <td>...</td>\n",
       "      <td>...</td>\n",
       "      <td>...</td>\n",
       "      <td>...</td>\n",
       "      <td>...</td>\n",
       "      <td>...</td>\n",
       "      <td>...</td>\n",
       "    </tr>\n",
       "    <tr>\n",
       "      <th>1017204</th>\n",
       "      <td>1115</td>\n",
       "      <td>6</td>\n",
       "      <td>2013-01-05</td>\n",
       "      <td>4771</td>\n",
       "      <td>339</td>\n",
       "      <td>1</td>\n",
       "      <td>d</td>\n",
       "      <td>954.2</td>\n",
       "      <td>954.2</td>\n",
       "      <td>954.2</td>\n",
       "      <td>954.2</td>\n",
       "      <td>954.2</td>\n",
       "    </tr>\n",
       "    <tr>\n",
       "      <th>1017205</th>\n",
       "      <td>1115</td>\n",
       "      <td>5</td>\n",
       "      <td>2013-01-04</td>\n",
       "      <td>4540</td>\n",
       "      <td>326</td>\n",
       "      <td>1</td>\n",
       "      <td>d</td>\n",
       "      <td>908.0</td>\n",
       "      <td>908.0</td>\n",
       "      <td>908.0</td>\n",
       "      <td>908.0</td>\n",
       "      <td>908.0</td>\n",
       "    </tr>\n",
       "    <tr>\n",
       "      <th>1017206</th>\n",
       "      <td>1115</td>\n",
       "      <td>4</td>\n",
       "      <td>2013-01-03</td>\n",
       "      <td>4297</td>\n",
       "      <td>300</td>\n",
       "      <td>1</td>\n",
       "      <td>d</td>\n",
       "      <td>859.4</td>\n",
       "      <td>859.4</td>\n",
       "      <td>859.4</td>\n",
       "      <td>859.4</td>\n",
       "      <td>859.4</td>\n",
       "    </tr>\n",
       "    <tr>\n",
       "      <th>1017207</th>\n",
       "      <td>1115</td>\n",
       "      <td>3</td>\n",
       "      <td>2013-01-02</td>\n",
       "      <td>3697</td>\n",
       "      <td>305</td>\n",
       "      <td>1</td>\n",
       "      <td>d</td>\n",
       "      <td>739.4</td>\n",
       "      <td>739.4</td>\n",
       "      <td>739.4</td>\n",
       "      <td>739.4</td>\n",
       "      <td>739.4</td>\n",
       "    </tr>\n",
       "    <tr>\n",
       "      <th>1017208</th>\n",
       "      <td>1115</td>\n",
       "      <td>2</td>\n",
       "      <td>2013-01-01</td>\n",
       "      <td>0</td>\n",
       "      <td>0</td>\n",
       "      <td>1</td>\n",
       "      <td>d</td>\n",
       "      <td>0.0</td>\n",
       "      <td>0.0</td>\n",
       "      <td>0.0</td>\n",
       "      <td>0.0</td>\n",
       "      <td>0.0</td>\n",
       "    </tr>\n",
       "  </tbody>\n",
       "</table>\n",
       "<p>1017209 rows × 12 columns</p>\n",
       "</div>"
      ],
      "text/plain": [
       "         Store  DayOfWeek        Date  Sales  Customers  SchoolHoliday  \\\n",
       "0            1          5  2015-07-31   5263        555              1   \n",
       "1            1          4  2015-07-30   5020        546              1   \n",
       "2            1          3  2015-07-29   4782        523              1   \n",
       "3            1          2  2015-07-28   5011        560              1   \n",
       "4            1          1  2015-07-27   6102        612              1   \n",
       "...        ...        ...         ...    ...        ...            ...   \n",
       "1017204   1115          6  2013-01-05   4771        339              1   \n",
       "1017205   1115          5  2013-01-04   4540        326              1   \n",
       "1017206   1115          4  2013-01-03   4297        300              1   \n",
       "1017207   1115          3  2013-01-02   3697        305              1   \n",
       "1017208   1115          2  2013-01-01      0          0              1   \n",
       "\n",
       "        StoreType  sales_PA  sales_PB  sales_PC  sales_PD  sales_PE  \n",
       "0               c    1052.6    1052.6    1052.6    1052.6    1052.6  \n",
       "1               c    1004.0    1004.0    1004.0    1004.0    1004.0  \n",
       "2               c     956.4     956.4     956.4     956.4     956.4  \n",
       "3               c    1002.2    1002.2    1002.2    1002.2    1002.2  \n",
       "4               c    1220.4    1220.4    1220.4    1220.4    1220.4  \n",
       "...           ...       ...       ...       ...       ...       ...  \n",
       "1017204         d     954.2     954.2     954.2     954.2     954.2  \n",
       "1017205         d     908.0     908.0     908.0     908.0     908.0  \n",
       "1017206         d     859.4     859.4     859.4     859.4     859.4  \n",
       "1017207         d     739.4     739.4     739.4     739.4     739.4  \n",
       "1017208         d       0.0       0.0       0.0       0.0       0.0  \n",
       "\n",
       "[1017209 rows x 12 columns]"
      ]
     },
     "execution_count": 52,
     "metadata": {},
     "output_type": "execute_result"
    }
   ],
   "source": [
    "train_store"
   ]
  },
  {
   "cell_type": "code",
   "execution_count": 53,
   "id": "788da755-29a8-48ff-b6ce-dda36361fbeb",
   "metadata": {},
   "outputs": [],
   "source": [
    "train_store['n_itemsA'] = train_store['sales_PA']/10.05\n",
    "train_store['n_itemsB'] = train_store['sales_PB']/80.01\n",
    "train_store['n_itemsC'] = train_store['sales_PC']/5.78\n",
    "train_store['n_itemsD'] = train_store['sales_PD']/23.05\n",
    "train_store['n_itemsE'] = train_store['sales_PE']/36.98"
   ]
  },
  {
   "cell_type": "code",
   "execution_count": 54,
   "id": "5fc7e220-252f-4e85-aaf0-b5d345c653ff",
   "metadata": {},
   "outputs": [
    {
     "data": {
      "text/html": [
       "<div>\n",
       "<style scoped>\n",
       "    .dataframe tbody tr th:only-of-type {\n",
       "        vertical-align: middle;\n",
       "    }\n",
       "\n",
       "    .dataframe tbody tr th {\n",
       "        vertical-align: top;\n",
       "    }\n",
       "\n",
       "    .dataframe thead th {\n",
       "        text-align: right;\n",
       "    }\n",
       "</style>\n",
       "<table border=\"1\" class=\"dataframe\">\n",
       "  <thead>\n",
       "    <tr style=\"text-align: right;\">\n",
       "      <th></th>\n",
       "      <th>Store</th>\n",
       "      <th>DayOfWeek</th>\n",
       "      <th>Date</th>\n",
       "      <th>Sales</th>\n",
       "      <th>Customers</th>\n",
       "      <th>SchoolHoliday</th>\n",
       "      <th>StoreType</th>\n",
       "      <th>sales_PA</th>\n",
       "      <th>sales_PB</th>\n",
       "      <th>sales_PC</th>\n",
       "      <th>sales_PD</th>\n",
       "      <th>sales_PE</th>\n",
       "      <th>n_itemsA</th>\n",
       "      <th>n_itemsB</th>\n",
       "      <th>n_itemsC</th>\n",
       "      <th>n_itemsD</th>\n",
       "      <th>n_itemsE</th>\n",
       "    </tr>\n",
       "  </thead>\n",
       "  <tbody>\n",
       "    <tr>\n",
       "      <th>0</th>\n",
       "      <td>1</td>\n",
       "      <td>5</td>\n",
       "      <td>2015-07-31</td>\n",
       "      <td>5263</td>\n",
       "      <td>555</td>\n",
       "      <td>1</td>\n",
       "      <td>c</td>\n",
       "      <td>1052.6</td>\n",
       "      <td>1052.6</td>\n",
       "      <td>1052.6</td>\n",
       "      <td>1052.6</td>\n",
       "      <td>1052.6</td>\n",
       "      <td>104.736318</td>\n",
       "      <td>13.155856</td>\n",
       "      <td>182.110727</td>\n",
       "      <td>45.665944</td>\n",
       "      <td>28.464035</td>\n",
       "    </tr>\n",
       "    <tr>\n",
       "      <th>1</th>\n",
       "      <td>1</td>\n",
       "      <td>4</td>\n",
       "      <td>2015-07-30</td>\n",
       "      <td>5020</td>\n",
       "      <td>546</td>\n",
       "      <td>1</td>\n",
       "      <td>c</td>\n",
       "      <td>1004.0</td>\n",
       "      <td>1004.0</td>\n",
       "      <td>1004.0</td>\n",
       "      <td>1004.0</td>\n",
       "      <td>1004.0</td>\n",
       "      <td>99.900498</td>\n",
       "      <td>12.548431</td>\n",
       "      <td>173.702422</td>\n",
       "      <td>43.557484</td>\n",
       "      <td>27.149811</td>\n",
       "    </tr>\n",
       "    <tr>\n",
       "      <th>2</th>\n",
       "      <td>1</td>\n",
       "      <td>3</td>\n",
       "      <td>2015-07-29</td>\n",
       "      <td>4782</td>\n",
       "      <td>523</td>\n",
       "      <td>1</td>\n",
       "      <td>c</td>\n",
       "      <td>956.4</td>\n",
       "      <td>956.4</td>\n",
       "      <td>956.4</td>\n",
       "      <td>956.4</td>\n",
       "      <td>956.4</td>\n",
       "      <td>95.164179</td>\n",
       "      <td>11.953506</td>\n",
       "      <td>165.467128</td>\n",
       "      <td>41.492408</td>\n",
       "      <td>25.862628</td>\n",
       "    </tr>\n",
       "    <tr>\n",
       "      <th>3</th>\n",
       "      <td>1</td>\n",
       "      <td>2</td>\n",
       "      <td>2015-07-28</td>\n",
       "      <td>5011</td>\n",
       "      <td>560</td>\n",
       "      <td>1</td>\n",
       "      <td>c</td>\n",
       "      <td>1002.2</td>\n",
       "      <td>1002.2</td>\n",
       "      <td>1002.2</td>\n",
       "      <td>1002.2</td>\n",
       "      <td>1002.2</td>\n",
       "      <td>99.721393</td>\n",
       "      <td>12.525934</td>\n",
       "      <td>173.391003</td>\n",
       "      <td>43.479393</td>\n",
       "      <td>27.101136</td>\n",
       "    </tr>\n",
       "    <tr>\n",
       "      <th>4</th>\n",
       "      <td>1</td>\n",
       "      <td>1</td>\n",
       "      <td>2015-07-27</td>\n",
       "      <td>6102</td>\n",
       "      <td>612</td>\n",
       "      <td>1</td>\n",
       "      <td>c</td>\n",
       "      <td>1220.4</td>\n",
       "      <td>1220.4</td>\n",
       "      <td>1220.4</td>\n",
       "      <td>1220.4</td>\n",
       "      <td>1220.4</td>\n",
       "      <td>121.432836</td>\n",
       "      <td>15.253093</td>\n",
       "      <td>211.141869</td>\n",
       "      <td>52.945770</td>\n",
       "      <td>33.001622</td>\n",
       "    </tr>\n",
       "    <tr>\n",
       "      <th>...</th>\n",
       "      <td>...</td>\n",
       "      <td>...</td>\n",
       "      <td>...</td>\n",
       "      <td>...</td>\n",
       "      <td>...</td>\n",
       "      <td>...</td>\n",
       "      <td>...</td>\n",
       "      <td>...</td>\n",
       "      <td>...</td>\n",
       "      <td>...</td>\n",
       "      <td>...</td>\n",
       "      <td>...</td>\n",
       "      <td>...</td>\n",
       "      <td>...</td>\n",
       "      <td>...</td>\n",
       "      <td>...</td>\n",
       "      <td>...</td>\n",
       "    </tr>\n",
       "    <tr>\n",
       "      <th>1017204</th>\n",
       "      <td>1115</td>\n",
       "      <td>6</td>\n",
       "      <td>2013-01-05</td>\n",
       "      <td>4771</td>\n",
       "      <td>339</td>\n",
       "      <td>1</td>\n",
       "      <td>d</td>\n",
       "      <td>954.2</td>\n",
       "      <td>954.2</td>\n",
       "      <td>954.2</td>\n",
       "      <td>954.2</td>\n",
       "      <td>954.2</td>\n",
       "      <td>94.945274</td>\n",
       "      <td>11.926009</td>\n",
       "      <td>165.086505</td>\n",
       "      <td>41.396963</td>\n",
       "      <td>25.803137</td>\n",
       "    </tr>\n",
       "    <tr>\n",
       "      <th>1017205</th>\n",
       "      <td>1115</td>\n",
       "      <td>5</td>\n",
       "      <td>2013-01-04</td>\n",
       "      <td>4540</td>\n",
       "      <td>326</td>\n",
       "      <td>1</td>\n",
       "      <td>d</td>\n",
       "      <td>908.0</td>\n",
       "      <td>908.0</td>\n",
       "      <td>908.0</td>\n",
       "      <td>908.0</td>\n",
       "      <td>908.0</td>\n",
       "      <td>90.348259</td>\n",
       "      <td>11.348581</td>\n",
       "      <td>157.093426</td>\n",
       "      <td>39.392625</td>\n",
       "      <td>24.553813</td>\n",
       "    </tr>\n",
       "    <tr>\n",
       "      <th>1017206</th>\n",
       "      <td>1115</td>\n",
       "      <td>4</td>\n",
       "      <td>2013-01-03</td>\n",
       "      <td>4297</td>\n",
       "      <td>300</td>\n",
       "      <td>1</td>\n",
       "      <td>d</td>\n",
       "      <td>859.4</td>\n",
       "      <td>859.4</td>\n",
       "      <td>859.4</td>\n",
       "      <td>859.4</td>\n",
       "      <td>859.4</td>\n",
       "      <td>85.512438</td>\n",
       "      <td>10.741157</td>\n",
       "      <td>148.685121</td>\n",
       "      <td>37.284165</td>\n",
       "      <td>23.239589</td>\n",
       "    </tr>\n",
       "    <tr>\n",
       "      <th>1017207</th>\n",
       "      <td>1115</td>\n",
       "      <td>3</td>\n",
       "      <td>2013-01-02</td>\n",
       "      <td>3697</td>\n",
       "      <td>305</td>\n",
       "      <td>1</td>\n",
       "      <td>d</td>\n",
       "      <td>739.4</td>\n",
       "      <td>739.4</td>\n",
       "      <td>739.4</td>\n",
       "      <td>739.4</td>\n",
       "      <td>739.4</td>\n",
       "      <td>73.572139</td>\n",
       "      <td>9.241345</td>\n",
       "      <td>127.923875</td>\n",
       "      <td>32.078091</td>\n",
       "      <td>19.994592</td>\n",
       "    </tr>\n",
       "    <tr>\n",
       "      <th>1017208</th>\n",
       "      <td>1115</td>\n",
       "      <td>2</td>\n",
       "      <td>2013-01-01</td>\n",
       "      <td>0</td>\n",
       "      <td>0</td>\n",
       "      <td>1</td>\n",
       "      <td>d</td>\n",
       "      <td>0.0</td>\n",
       "      <td>0.0</td>\n",
       "      <td>0.0</td>\n",
       "      <td>0.0</td>\n",
       "      <td>0.0</td>\n",
       "      <td>0.000000</td>\n",
       "      <td>0.000000</td>\n",
       "      <td>0.000000</td>\n",
       "      <td>0.000000</td>\n",
       "      <td>0.000000</td>\n",
       "    </tr>\n",
       "  </tbody>\n",
       "</table>\n",
       "<p>1017209 rows × 17 columns</p>\n",
       "</div>"
      ],
      "text/plain": [
       "         Store  DayOfWeek        Date  Sales  Customers  SchoolHoliday  \\\n",
       "0            1          5  2015-07-31   5263        555              1   \n",
       "1            1          4  2015-07-30   5020        546              1   \n",
       "2            1          3  2015-07-29   4782        523              1   \n",
       "3            1          2  2015-07-28   5011        560              1   \n",
       "4            1          1  2015-07-27   6102        612              1   \n",
       "...        ...        ...         ...    ...        ...            ...   \n",
       "1017204   1115          6  2013-01-05   4771        339              1   \n",
       "1017205   1115          5  2013-01-04   4540        326              1   \n",
       "1017206   1115          4  2013-01-03   4297        300              1   \n",
       "1017207   1115          3  2013-01-02   3697        305              1   \n",
       "1017208   1115          2  2013-01-01      0          0              1   \n",
       "\n",
       "        StoreType  sales_PA  sales_PB  sales_PC  sales_PD  sales_PE  \\\n",
       "0               c    1052.6    1052.6    1052.6    1052.6    1052.6   \n",
       "1               c    1004.0    1004.0    1004.0    1004.0    1004.0   \n",
       "2               c     956.4     956.4     956.4     956.4     956.4   \n",
       "3               c    1002.2    1002.2    1002.2    1002.2    1002.2   \n",
       "4               c    1220.4    1220.4    1220.4    1220.4    1220.4   \n",
       "...           ...       ...       ...       ...       ...       ...   \n",
       "1017204         d     954.2     954.2     954.2     954.2     954.2   \n",
       "1017205         d     908.0     908.0     908.0     908.0     908.0   \n",
       "1017206         d     859.4     859.4     859.4     859.4     859.4   \n",
       "1017207         d     739.4     739.4     739.4     739.4     739.4   \n",
       "1017208         d       0.0       0.0       0.0       0.0       0.0   \n",
       "\n",
       "           n_itemsA   n_itemsB    n_itemsC   n_itemsD   n_itemsE  \n",
       "0        104.736318  13.155856  182.110727  45.665944  28.464035  \n",
       "1         99.900498  12.548431  173.702422  43.557484  27.149811  \n",
       "2         95.164179  11.953506  165.467128  41.492408  25.862628  \n",
       "3         99.721393  12.525934  173.391003  43.479393  27.101136  \n",
       "4        121.432836  15.253093  211.141869  52.945770  33.001622  \n",
       "...             ...        ...         ...        ...        ...  \n",
       "1017204   94.945274  11.926009  165.086505  41.396963  25.803137  \n",
       "1017205   90.348259  11.348581  157.093426  39.392625  24.553813  \n",
       "1017206   85.512438  10.741157  148.685121  37.284165  23.239589  \n",
       "1017207   73.572139   9.241345  127.923875  32.078091  19.994592  \n",
       "1017208    0.000000   0.000000    0.000000   0.000000   0.000000  \n",
       "\n",
       "[1017209 rows x 17 columns]"
      ]
     },
     "execution_count": 54,
     "metadata": {},
     "output_type": "execute_result"
    }
   ],
   "source": [
    "train_store"
   ]
  },
  {
   "cell_type": "code",
   "execution_count": 55,
   "id": "8e1ee078-3e55-456a-8492-4dc0f19f805a",
   "metadata": {},
   "outputs": [],
   "source": [
    "train_store['total_items']= train_store['n_itemsA'] + train_store['n_itemsB'] + train_store['n_itemsC'] + train_store['n_itemsD'] + train_store['n_itemsE']"
   ]
  },
  {
   "cell_type": "code",
   "execution_count": 56,
   "id": "d8eaef87-92da-4fe1-8789-78ce082414bc",
   "metadata": {},
   "outputs": [],
   "source": [
    "train_store['Date'] = pd.to_datetime(train_store['Date'])\n",
    "train_store = train_store.set_index(train_store['Date'])"
   ]
  },
  {
   "cell_type": "code",
   "execution_count": 58,
   "id": "b4bf6865-0fa7-4df5-9a45-cc1fbcbdc0eb",
   "metadata": {},
   "outputs": [],
   "source": [
    "monthly_sold_items = train_store.resample('M').agg({'total_items':np.sum})"
   ]
  },
  {
   "cell_type": "code",
   "execution_count": 61,
   "id": "21bba6d7-b1f3-4d85-91ba-06bf3546a437",
   "metadata": {},
   "outputs": [],
   "source": [
    "from datetime import datetime\n",
    "from datetime import timedelta"
   ]
  },
  {
   "cell_type": "code",
   "execution_count": 62,
   "id": "9a8bc4db-08ec-440f-b235-d3ef62437d71",
   "metadata": {},
   "outputs": [],
   "source": [
    "one_year = timedelta(days=365)"
   ]
  },
  {
   "cell_type": "code",
   "execution_count": 63,
   "id": "ea658fc5-252c-41ce-9432-03a5c3f2abaa",
   "metadata": {},
   "outputs": [],
   "source": [
    "monthly_sold_items['Year'] =  monthly_sold_items.index.year\n",
    "monthly_sold_items['Month'] = monthly_sold_items.index.month\n",
    "    \n",
    "monthly_y2013 = monthly_sold_items[monthly_sold_items['Year']==2013]\n",
    "monthly_y2014 = monthly_sold_items[monthly_sold_items['Year']==2014]\n",
    "monthly_y2015 = monthly_sold_items[monthly_sold_items['Year']==2015]\n",
    "    \n",
    "shifted_2013_index =  monthly_y2013.index + pd.Timedelta(one_year) + pd.Timedelta(one_year)\n",
    "shifted_2013       =  monthly_y2013.set_index(shifted_2013_index)     \n",
    "shifted_2014_index =  monthly_y2014.index + pd.Timedelta(one_year)\n",
    "shifted_2014       =  monthly_y2014.set_index(shifted_2014_index) "
   ]
  },
  {
   "cell_type": "code",
   "execution_count": 64,
   "id": "8e35bf69-e973-4ffe-95c1-ed67aa0f715e",
   "metadata": {},
   "outputs": [],
   "source": [
    "import plotly.graph_objects as go\n",
    "import plotly.express as px\n",
    "import plotly.figure_factory as ff\n",
    "from plotly.subplots import make_subplots"
   ]
  },
  {
   "cell_type": "code",
   "execution_count": 71,
   "id": "8c6a9b0a-2cc4-44f9-98f3-41d8292c631a",
   "metadata": {},
   "outputs": [
    {
     "data": {
      "application/vnd.plotly.v1+json": {
       "config": {
        "plotlyServerURL": "https://plot.ly"
       },
       "data": [
        {
         "hovertemplate": "Month: %{x} <br>#items: %{y:#,.2f}",
         "name": "y2013",
         "type": "scatter",
         "x": [
          "JAN",
          "FEB",
          "MAR",
          "APR",
          "MAY",
          "JUN",
          "JUL",
          "AUG",
          "SEP",
          "OCT",
          "NOV",
          "DEC"
         ],
         "y": [
          12805126.575448943,
          12193922.119673286,
          14301385.25722124,
          13039659.835377777,
          13180386.615723519,
          12845656.61839808,
          14846164.314847501,
          14078338.509348746,
          12657389.655339662,
          13340423.287511652,
          13945276.938969469,
          16471696.604890225
         ]
        },
        {
         "hovertemplate": "Month: %{x} <br>#items: %{y:#,.2f}",
         "name": "y2014",
         "type": "scatter",
         "x": [
          "JAN",
          "FEB",
          "MAR",
          "APR",
          "MAY",
          "JUN",
          "JUL",
          "AUG",
          "SEP",
          "OCT",
          "NOV",
          "DEC"
         ],
         "y": [
          13346853.638607252,
          12719286.431972258,
          13721275.629763838,
          13829692.627386747,
          13840233.464032399,
          13509946.854455631,
          12361576.870495215,
          11640449.999659067,
          11695023.283358889,
          11673713.419579102,
          12321429.988522071,
          14368223.246521778
         ]
        },
        {
         "hovertemplate": "Month: %{x} <br>#items: %{y:#,.2f}",
         "name": "y2015",
         "type": "scatter",
         "x": [
          "JAN",
          "FEB",
          "MAR",
          "APR",
          "MAY",
          "JUN",
          "JUL",
          "AUG",
          "SEP",
          "OCT",
          "NOV",
          "DEC"
         ],
         "y": [
          14135279.713662723,
          12673135.154482018,
          14617817.505214892,
          14069534.977172904,
          13445744.003229126,
          14740918.809577633,
          15093458.399199212
         ]
        }
       ],
       "layout": {
        "autosize": true,
        "hovermode": "x",
        "template": {
         "data": {
          "bar": [
           {
            "error_x": {
             "color": "#2a3f5f"
            },
            "error_y": {
             "color": "#2a3f5f"
            },
            "marker": {
             "line": {
              "color": "#E5ECF6",
              "width": 0.5
             },
             "pattern": {
              "fillmode": "overlay",
              "size": 10,
              "solidity": 0.2
             }
            },
            "type": "bar"
           }
          ],
          "barpolar": [
           {
            "marker": {
             "line": {
              "color": "#E5ECF6",
              "width": 0.5
             },
             "pattern": {
              "fillmode": "overlay",
              "size": 10,
              "solidity": 0.2
             }
            },
            "type": "barpolar"
           }
          ],
          "carpet": [
           {
            "aaxis": {
             "endlinecolor": "#2a3f5f",
             "gridcolor": "white",
             "linecolor": "white",
             "minorgridcolor": "white",
             "startlinecolor": "#2a3f5f"
            },
            "baxis": {
             "endlinecolor": "#2a3f5f",
             "gridcolor": "white",
             "linecolor": "white",
             "minorgridcolor": "white",
             "startlinecolor": "#2a3f5f"
            },
            "type": "carpet"
           }
          ],
          "choropleth": [
           {
            "colorbar": {
             "outlinewidth": 0,
             "ticks": ""
            },
            "type": "choropleth"
           }
          ],
          "contour": [
           {
            "colorbar": {
             "outlinewidth": 0,
             "ticks": ""
            },
            "colorscale": [
             [
              0,
              "#0d0887"
             ],
             [
              0.1111111111111111,
              "#46039f"
             ],
             [
              0.2222222222222222,
              "#7201a8"
             ],
             [
              0.3333333333333333,
              "#9c179e"
             ],
             [
              0.4444444444444444,
              "#bd3786"
             ],
             [
              0.5555555555555556,
              "#d8576b"
             ],
             [
              0.6666666666666666,
              "#ed7953"
             ],
             [
              0.7777777777777778,
              "#fb9f3a"
             ],
             [
              0.8888888888888888,
              "#fdca26"
             ],
             [
              1,
              "#f0f921"
             ]
            ],
            "type": "contour"
           }
          ],
          "contourcarpet": [
           {
            "colorbar": {
             "outlinewidth": 0,
             "ticks": ""
            },
            "type": "contourcarpet"
           }
          ],
          "heatmap": [
           {
            "colorbar": {
             "outlinewidth": 0,
             "ticks": ""
            },
            "colorscale": [
             [
              0,
              "#0d0887"
             ],
             [
              0.1111111111111111,
              "#46039f"
             ],
             [
              0.2222222222222222,
              "#7201a8"
             ],
             [
              0.3333333333333333,
              "#9c179e"
             ],
             [
              0.4444444444444444,
              "#bd3786"
             ],
             [
              0.5555555555555556,
              "#d8576b"
             ],
             [
              0.6666666666666666,
              "#ed7953"
             ],
             [
              0.7777777777777778,
              "#fb9f3a"
             ],
             [
              0.8888888888888888,
              "#fdca26"
             ],
             [
              1,
              "#f0f921"
             ]
            ],
            "type": "heatmap"
           }
          ],
          "heatmapgl": [
           {
            "colorbar": {
             "outlinewidth": 0,
             "ticks": ""
            },
            "colorscale": [
             [
              0,
              "#0d0887"
             ],
             [
              0.1111111111111111,
              "#46039f"
             ],
             [
              0.2222222222222222,
              "#7201a8"
             ],
             [
              0.3333333333333333,
              "#9c179e"
             ],
             [
              0.4444444444444444,
              "#bd3786"
             ],
             [
              0.5555555555555556,
              "#d8576b"
             ],
             [
              0.6666666666666666,
              "#ed7953"
             ],
             [
              0.7777777777777778,
              "#fb9f3a"
             ],
             [
              0.8888888888888888,
              "#fdca26"
             ],
             [
              1,
              "#f0f921"
             ]
            ],
            "type": "heatmapgl"
           }
          ],
          "histogram": [
           {
            "marker": {
             "pattern": {
              "fillmode": "overlay",
              "size": 10,
              "solidity": 0.2
             }
            },
            "type": "histogram"
           }
          ],
          "histogram2d": [
           {
            "colorbar": {
             "outlinewidth": 0,
             "ticks": ""
            },
            "colorscale": [
             [
              0,
              "#0d0887"
             ],
             [
              0.1111111111111111,
              "#46039f"
             ],
             [
              0.2222222222222222,
              "#7201a8"
             ],
             [
              0.3333333333333333,
              "#9c179e"
             ],
             [
              0.4444444444444444,
              "#bd3786"
             ],
             [
              0.5555555555555556,
              "#d8576b"
             ],
             [
              0.6666666666666666,
              "#ed7953"
             ],
             [
              0.7777777777777778,
              "#fb9f3a"
             ],
             [
              0.8888888888888888,
              "#fdca26"
             ],
             [
              1,
              "#f0f921"
             ]
            ],
            "type": "histogram2d"
           }
          ],
          "histogram2dcontour": [
           {
            "colorbar": {
             "outlinewidth": 0,
             "ticks": ""
            },
            "colorscale": [
             [
              0,
              "#0d0887"
             ],
             [
              0.1111111111111111,
              "#46039f"
             ],
             [
              0.2222222222222222,
              "#7201a8"
             ],
             [
              0.3333333333333333,
              "#9c179e"
             ],
             [
              0.4444444444444444,
              "#bd3786"
             ],
             [
              0.5555555555555556,
              "#d8576b"
             ],
             [
              0.6666666666666666,
              "#ed7953"
             ],
             [
              0.7777777777777778,
              "#fb9f3a"
             ],
             [
              0.8888888888888888,
              "#fdca26"
             ],
             [
              1,
              "#f0f921"
             ]
            ],
            "type": "histogram2dcontour"
           }
          ],
          "mesh3d": [
           {
            "colorbar": {
             "outlinewidth": 0,
             "ticks": ""
            },
            "type": "mesh3d"
           }
          ],
          "parcoords": [
           {
            "line": {
             "colorbar": {
              "outlinewidth": 0,
              "ticks": ""
             }
            },
            "type": "parcoords"
           }
          ],
          "pie": [
           {
            "automargin": true,
            "type": "pie"
           }
          ],
          "scatter": [
           {
            "marker": {
             "colorbar": {
              "outlinewidth": 0,
              "ticks": ""
             }
            },
            "type": "scatter"
           }
          ],
          "scatter3d": [
           {
            "line": {
             "colorbar": {
              "outlinewidth": 0,
              "ticks": ""
             }
            },
            "marker": {
             "colorbar": {
              "outlinewidth": 0,
              "ticks": ""
             }
            },
            "type": "scatter3d"
           }
          ],
          "scattercarpet": [
           {
            "marker": {
             "colorbar": {
              "outlinewidth": 0,
              "ticks": ""
             }
            },
            "type": "scattercarpet"
           }
          ],
          "scattergeo": [
           {
            "marker": {
             "colorbar": {
              "outlinewidth": 0,
              "ticks": ""
             }
            },
            "type": "scattergeo"
           }
          ],
          "scattergl": [
           {
            "marker": {
             "colorbar": {
              "outlinewidth": 0,
              "ticks": ""
             }
            },
            "type": "scattergl"
           }
          ],
          "scattermapbox": [
           {
            "marker": {
             "colorbar": {
              "outlinewidth": 0,
              "ticks": ""
             }
            },
            "type": "scattermapbox"
           }
          ],
          "scatterpolar": [
           {
            "marker": {
             "colorbar": {
              "outlinewidth": 0,
              "ticks": ""
             }
            },
            "type": "scatterpolar"
           }
          ],
          "scatterpolargl": [
           {
            "marker": {
             "colorbar": {
              "outlinewidth": 0,
              "ticks": ""
             }
            },
            "type": "scatterpolargl"
           }
          ],
          "scatterternary": [
           {
            "marker": {
             "colorbar": {
              "outlinewidth": 0,
              "ticks": ""
             }
            },
            "type": "scatterternary"
           }
          ],
          "surface": [
           {
            "colorbar": {
             "outlinewidth": 0,
             "ticks": ""
            },
            "colorscale": [
             [
              0,
              "#0d0887"
             ],
             [
              0.1111111111111111,
              "#46039f"
             ],
             [
              0.2222222222222222,
              "#7201a8"
             ],
             [
              0.3333333333333333,
              "#9c179e"
             ],
             [
              0.4444444444444444,
              "#bd3786"
             ],
             [
              0.5555555555555556,
              "#d8576b"
             ],
             [
              0.6666666666666666,
              "#ed7953"
             ],
             [
              0.7777777777777778,
              "#fb9f3a"
             ],
             [
              0.8888888888888888,
              "#fdca26"
             ],
             [
              1,
              "#f0f921"
             ]
            ],
            "type": "surface"
           }
          ],
          "table": [
           {
            "cells": {
             "fill": {
              "color": "#EBF0F8"
             },
             "line": {
              "color": "white"
             }
            },
            "header": {
             "fill": {
              "color": "#C8D4E3"
             },
             "line": {
              "color": "white"
             }
            },
            "type": "table"
           }
          ]
         },
         "layout": {
          "annotationdefaults": {
           "arrowcolor": "#2a3f5f",
           "arrowhead": 0,
           "arrowwidth": 1
          },
          "autotypenumbers": "strict",
          "coloraxis": {
           "colorbar": {
            "outlinewidth": 0,
            "ticks": ""
           }
          },
          "colorscale": {
           "diverging": [
            [
             0,
             "#8e0152"
            ],
            [
             0.1,
             "#c51b7d"
            ],
            [
             0.2,
             "#de77ae"
            ],
            [
             0.3,
             "#f1b6da"
            ],
            [
             0.4,
             "#fde0ef"
            ],
            [
             0.5,
             "#f7f7f7"
            ],
            [
             0.6,
             "#e6f5d0"
            ],
            [
             0.7,
             "#b8e186"
            ],
            [
             0.8,
             "#7fbc41"
            ],
            [
             0.9,
             "#4d9221"
            ],
            [
             1,
             "#276419"
            ]
           ],
           "sequential": [
            [
             0,
             "#0d0887"
            ],
            [
             0.1111111111111111,
             "#46039f"
            ],
            [
             0.2222222222222222,
             "#7201a8"
            ],
            [
             0.3333333333333333,
             "#9c179e"
            ],
            [
             0.4444444444444444,
             "#bd3786"
            ],
            [
             0.5555555555555556,
             "#d8576b"
            ],
            [
             0.6666666666666666,
             "#ed7953"
            ],
            [
             0.7777777777777778,
             "#fb9f3a"
            ],
            [
             0.8888888888888888,
             "#fdca26"
            ],
            [
             1,
             "#f0f921"
            ]
           ],
           "sequentialminus": [
            [
             0,
             "#0d0887"
            ],
            [
             0.1111111111111111,
             "#46039f"
            ],
            [
             0.2222222222222222,
             "#7201a8"
            ],
            [
             0.3333333333333333,
             "#9c179e"
            ],
            [
             0.4444444444444444,
             "#bd3786"
            ],
            [
             0.5555555555555556,
             "#d8576b"
            ],
            [
             0.6666666666666666,
             "#ed7953"
            ],
            [
             0.7777777777777778,
             "#fb9f3a"
            ],
            [
             0.8888888888888888,
             "#fdca26"
            ],
            [
             1,
             "#f0f921"
            ]
           ]
          },
          "colorway": [
           "#636efa",
           "#EF553B",
           "#00cc96",
           "#ab63fa",
           "#FFA15A",
           "#19d3f3",
           "#FF6692",
           "#B6E880",
           "#FF97FF",
           "#FECB52"
          ],
          "font": {
           "color": "#2a3f5f"
          },
          "geo": {
           "bgcolor": "white",
           "lakecolor": "white",
           "landcolor": "#E5ECF6",
           "showlakes": true,
           "showland": true,
           "subunitcolor": "white"
          },
          "hoverlabel": {
           "align": "left"
          },
          "hovermode": "closest",
          "mapbox": {
           "style": "light"
          },
          "paper_bgcolor": "white",
          "plot_bgcolor": "#E5ECF6",
          "polar": {
           "angularaxis": {
            "gridcolor": "white",
            "linecolor": "white",
            "ticks": ""
           },
           "bgcolor": "#E5ECF6",
           "radialaxis": {
            "gridcolor": "white",
            "linecolor": "white",
            "ticks": ""
           }
          },
          "scene": {
           "xaxis": {
            "backgroundcolor": "#E5ECF6",
            "gridcolor": "white",
            "gridwidth": 2,
            "linecolor": "white",
            "showbackground": true,
            "ticks": "",
            "zerolinecolor": "white"
           },
           "yaxis": {
            "backgroundcolor": "#E5ECF6",
            "gridcolor": "white",
            "gridwidth": 2,
            "linecolor": "white",
            "showbackground": true,
            "ticks": "",
            "zerolinecolor": "white"
           },
           "zaxis": {
            "backgroundcolor": "#E5ECF6",
            "gridcolor": "white",
            "gridwidth": 2,
            "linecolor": "white",
            "showbackground": true,
            "ticks": "",
            "zerolinecolor": "white"
           }
          },
          "shapedefaults": {
           "line": {
            "color": "#2a3f5f"
           }
          },
          "ternary": {
           "aaxis": {
            "gridcolor": "white",
            "linecolor": "white",
            "ticks": ""
           },
           "baxis": {
            "gridcolor": "white",
            "linecolor": "white",
            "ticks": ""
           },
           "bgcolor": "#E5ECF6",
           "caxis": {
            "gridcolor": "white",
            "linecolor": "white",
            "ticks": ""
           }
          },
          "title": {
           "x": 0.05
          },
          "xaxis": {
           "automargin": true,
           "gridcolor": "white",
           "linecolor": "white",
           "ticks": "",
           "title": {
            "standoff": 15
           },
           "zerolinecolor": "white",
           "zerolinewidth": 2
          },
          "yaxis": {
           "automargin": true,
           "gridcolor": "white",
           "linecolor": "white",
           "ticks": "",
           "title": {
            "standoff": 15
           },
           "zerolinecolor": "white",
           "zerolinewidth": 2
          }
         }
        },
        "title": {
         "text": "Items sold overlap  3 years"
        },
        "xaxis": {
         "autorange": true,
         "range": [
          -0.6593516471950323,
          11.659351647195033
         ],
         "title": {
          "text": "Month"
         },
         "type": "category"
        },
        "yaxis": {
         "autorange": true,
         "range": [
          11266377.099778965,
          16845769.504770327
         ],
         "title": {
          "text": "# Items sold"
         },
         "type": "linear"
        }
       }
      },
      "image/png": "[encoded data removed]",
      "text/html": [
       "<div>                            <div id=\"b1fb48c4-3318-4b6b-97f9-384c8c80e475\" class=\"plotly-graph-div\" style=\"height:400px; width:100%;\"></div>            <script type=\"text/javascript\">                require([\"plotly\"], function(Plotly) {                    window.PLOTLYENV=window.PLOTLYENV || {};                                    if (document.getElementById(\"b1fb48c4-3318-4b6b-97f9-384c8c80e475\")) {                    Plotly.newPlot(                        \"b1fb48c4-3318-4b6b-97f9-384c8c80e475\",                        [{\"hovertemplate\":\"Month: %{x} <br>#items: %{y:#,.2f}\",\"name\":\"y2013\",\"type\":\"scatter\",\"x\":[\"JAN\",\"FEB\",\"MAR\",\"APR\",\"MAY\",\"JUN\",\"JUL\",\"AUG\",\"SEP\",\"OCT\",\"NOV\",\"DEC\"],\"y\":[12805126.575448943,12193922.119673286,14301385.25722124,13039659.835377777,13180386.615723519,12845656.61839808,14846164.314847501,14078338.509348746,12657389.655339662,13340423.287511652,13945276.938969469,16471696.604890225]},{\"hovertemplate\":\"Month: %{x} <br>#items: %{y:#,.2f}\",\"name\":\"y2014\",\"type\":\"scatter\",\"x\":[\"JAN\",\"FEB\",\"MAR\",\"APR\",\"MAY\",\"JUN\",\"JUL\",\"AUG\",\"SEP\",\"OCT\",\"NOV\",\"DEC\"],\"y\":[13346853.638607252,12719286.431972258,13721275.629763838,13829692.627386747,13840233.464032399,13509946.854455631,12361576.870495215,11640449.999659067,11695023.283358889,11673713.419579102,12321429.988522071,14368223.246521778]},{\"hovertemplate\":\"Month: %{x} <br>#items: %{y:#,.2f}\",\"name\":\"y2015\",\"type\":\"scatter\",\"x\":[\"JAN\",\"FEB\",\"MAR\",\"APR\",\"MAY\",\"JUN\",\"JUL\",\"AUG\",\"SEP\",\"OCT\",\"NOV\",\"DEC\"],\"y\":[14135279.713662723,12673135.154482018,14617817.505214892,14069534.977172904,13445744.003229126,14740918.809577633,15093458.399199212]}],                        {\"height\":400,\"hovermode\":\"x\",\"template\":{\"data\":{\"bar\":[{\"error_x\":{\"color\":\"#2a3f5f\"},\"error_y\":{\"color\":\"#2a3f5f\"},\"marker\":{\"line\":{\"color\":\"#E5ECF6\",\"width\":0.5},\"pattern\":{\"fillmode\":\"overlay\",\"size\":10,\"solidity\":0.2}},\"type\":\"bar\"}],\"barpolar\":[{\"marker\":{\"line\":{\"color\":\"#E5ECF6\",\"width\":0.5},\"pattern\":{\"fillmode\":\"overlay\",\"size\":10,\"solidity\":0.2}},\"type\":\"barpolar\"}],\"carpet\":[{\"aaxis\":{\"endlinecolor\":\"#2a3f5f\",\"gridcolor\":\"white\",\"linecolor\":\"white\",\"minorgridcolor\":\"white\",\"startlinecolor\":\"#2a3f5f\"},\"baxis\":{\"endlinecolor\":\"#2a3f5f\",\"gridcolor\":\"white\",\"linecolor\":\"white\",\"minorgridcolor\":\"white\",\"startlinecolor\":\"#2a3f5f\"},\"type\":\"carpet\"}],\"choropleth\":[{\"colorbar\":{\"outlinewidth\":0,\"ticks\":\"\"},\"type\":\"choropleth\"}],\"contour\":[{\"colorbar\":{\"outlinewidth\":0,\"ticks\":\"\"},\"colorscale\":[[0.0,\"#0d0887\"],[0.1111111111111111,\"#46039f\"],[0.2222222222222222,\"#7201a8\"],[0.3333333333333333,\"#9c179e\"],[0.4444444444444444,\"#bd3786\"],[0.5555555555555556,\"#d8576b\"],[0.6666666666666666,\"#ed7953\"],[0.7777777777777778,\"#fb9f3a\"],[0.8888888888888888,\"#fdca26\"],[1.0,\"#f0f921\"]],\"type\":\"contour\"}],\"contourcarpet\":[{\"colorbar\":{\"outlinewidth\":0,\"ticks\":\"\"},\"type\":\"contourcarpet\"}],\"heatmap\":[{\"colorbar\":{\"outlinewidth\":0,\"ticks\":\"\"},\"colorscale\":[[0.0,\"#0d0887\"],[0.1111111111111111,\"#46039f\"],[0.2222222222222222,\"#7201a8\"],[0.3333333333333333,\"#9c179e\"],[0.4444444444444444,\"#bd3786\"],[0.5555555555555556,\"#d8576b\"],[0.6666666666666666,\"#ed7953\"],[0.7777777777777778,\"#fb9f3a\"],[0.8888888888888888,\"#fdca26\"],[1.0,\"#f0f921\"]],\"type\":\"heatmap\"}],\"heatmapgl\":[{\"colorbar\":{\"outlinewidth\":0,\"ticks\":\"\"},\"colorscale\":[[0.0,\"#0d0887\"],[0.1111111111111111,\"#46039f\"],[0.2222222222222222,\"#7201a8\"],[0.3333333333333333,\"#9c179e\"],[0.4444444444444444,\"#bd3786\"],[0.5555555555555556,\"#d8576b\"],[0.6666666666666666,\"#ed7953\"],[0.7777777777777778,\"#fb9f3a\"],[0.8888888888888888,\"#fdca26\"],[1.0,\"#f0f921\"]],\"type\":\"heatmapgl\"}],\"histogram\":[{\"marker\":{\"pattern\":{\"fillmode\":\"overlay\",\"size\":10,\"solidity\":0.2}},\"type\":\"histogram\"}],\"histogram2d\":[{\"colorbar\":{\"outlinewidth\":0,\"ticks\":\"\"},\"colorscale\":[[0.0,\"#0d0887\"],[0.1111111111111111,\"#46039f\"],[0.2222222222222222,\"#7201a8\"],[0.3333333333333333,\"#9c179e\"],[0.4444444444444444,\"#bd3786\"],[0.5555555555555556,\"#d8576b\"],[0.6666666666666666,\"#ed7953\"],[0.7777777777777778,\"#fb9f3a\"],[0.8888888888888888,\"#fdca26\"],[1.0,\"#f0f921\"]],\"type\":\"histogram2d\"}],\"histogram2dcontour\":[{\"colorbar\":{\"outlinewidth\":0,\"ticks\":\"\"},\"colorscale\":[[0.0,\"#0d0887\"],[0.1111111111111111,\"#46039f\"],[0.2222222222222222,\"#7201a8\"],[0.3333333333333333,\"#9c179e\"],[0.4444444444444444,\"#bd3786\"],[0.5555555555555556,\"#d8576b\"],[0.6666666666666666,\"#ed7953\"],[0.7777777777777778,\"#fb9f3a\"],[0.8888888888888888,\"#fdca26\"],[1.0,\"#f0f921\"]],\"type\":\"histogram2dcontour\"}],\"mesh3d\":[{\"colorbar\":{\"outlinewidth\":0,\"ticks\":\"\"},\"type\":\"mesh3d\"}],\"parcoords\":[{\"line\":{\"colorbar\":{\"outlinewidth\":0,\"ticks\":\"\"}},\"type\":\"parcoords\"}],\"pie\":[{\"automargin\":true,\"type\":\"pie\"}],\"scatter\":[{\"marker\":{\"colorbar\":{\"outlinewidth\":0,\"ticks\":\"\"}},\"type\":\"scatter\"}],\"scatter3d\":[{\"line\":{\"colorbar\":{\"outlinewidth\":0,\"ticks\":\"\"}},\"marker\":{\"colorbar\":{\"outlinewidth\":0,\"ticks\":\"\"}},\"type\":\"scatter3d\"}],\"scattercarpet\":[{\"marker\":{\"colorbar\":{\"outlinewidth\":0,\"ticks\":\"\"}},\"type\":\"scattercarpet\"}],\"scattergeo\":[{\"marker\":{\"colorbar\":{\"outlinewidth\":0,\"ticks\":\"\"}},\"type\":\"scattergeo\"}],\"scattergl\":[{\"marker\":{\"colorbar\":{\"outlinewidth\":0,\"ticks\":\"\"}},\"type\":\"scattergl\"}],\"scattermapbox\":[{\"marker\":{\"colorbar\":{\"outlinewidth\":0,\"ticks\":\"\"}},\"type\":\"scattermapbox\"}],\"scatterpolar\":[{\"marker\":{\"colorbar\":{\"outlinewidth\":0,\"ticks\":\"\"}},\"type\":\"scatterpolar\"}],\"scatterpolargl\":[{\"marker\":{\"colorbar\":{\"outlinewidth\":0,\"ticks\":\"\"}},\"type\":\"scatterpolargl\"}],\"scatterternary\":[{\"marker\":{\"colorbar\":{\"outlinewidth\":0,\"ticks\":\"\"}},\"type\":\"scatterternary\"}],\"surface\":[{\"colorbar\":{\"outlinewidth\":0,\"ticks\":\"\"},\"colorscale\":[[0.0,\"#0d0887\"],[0.1111111111111111,\"#46039f\"],[0.2222222222222222,\"#7201a8\"],[0.3333333333333333,\"#9c179e\"],[0.4444444444444444,\"#bd3786\"],[0.5555555555555556,\"#d8576b\"],[0.6666666666666666,\"#ed7953\"],[0.7777777777777778,\"#fb9f3a\"],[0.8888888888888888,\"#fdca26\"],[1.0,\"#f0f921\"]],\"type\":\"surface\"}],\"table\":[{\"cells\":{\"fill\":{\"color\":\"#EBF0F8\"},\"line\":{\"color\":\"white\"}},\"header\":{\"fill\":{\"color\":\"#C8D4E3\"},\"line\":{\"color\":\"white\"}},\"type\":\"table\"}]},\"layout\":{\"annotationdefaults\":{\"arrowcolor\":\"#2a3f5f\",\"arrowhead\":0,\"arrowwidth\":1},\"autotypenumbers\":\"strict\",\"coloraxis\":{\"colorbar\":{\"outlinewidth\":0,\"ticks\":\"\"}},\"colorscale\":{\"diverging\":[[0,\"#8e0152\"],[0.1,\"#c51b7d\"],[0.2,\"#de77ae\"],[0.3,\"#f1b6da\"],[0.4,\"#fde0ef\"],[0.5,\"#f7f7f7\"],[0.6,\"#e6f5d0\"],[0.7,\"#b8e186\"],[0.8,\"#7fbc41\"],[0.9,\"#4d9221\"],[1,\"#276419\"]],\"sequential\":[[0.0,\"#0d0887\"],[0.1111111111111111,\"#46039f\"],[0.2222222222222222,\"#7201a8\"],[0.3333333333333333,\"#9c179e\"],[0.4444444444444444,\"#bd3786\"],[0.5555555555555556,\"#d8576b\"],[0.6666666666666666,\"#ed7953\"],[0.7777777777777778,\"#fb9f3a\"],[0.8888888888888888,\"#fdca26\"],[1.0,\"#f0f921\"]],\"sequentialminus\":[[0.0,\"#0d0887\"],[0.1111111111111111,\"#46039f\"],[0.2222222222222222,\"#7201a8\"],[0.3333333333333333,\"#9c179e\"],[0.4444444444444444,\"#bd3786\"],[0.5555555555555556,\"#d8576b\"],[0.6666666666666666,\"#ed7953\"],[0.7777777777777778,\"#fb9f3a\"],[0.8888888888888888,\"#fdca26\"],[1.0,\"#f0f921\"]]},\"colorway\":[\"#636efa\",\"#EF553B\",\"#00cc96\",\"#ab63fa\",\"#FFA15A\",\"#19d3f3\",\"#FF6692\",\"#B6E880\",\"#FF97FF\",\"#FECB52\"],\"font\":{\"color\":\"#2a3f5f\"},\"geo\":{\"bgcolor\":\"white\",\"lakecolor\":\"white\",\"landcolor\":\"#E5ECF6\",\"showlakes\":true,\"showland\":true,\"subunitcolor\":\"white\"},\"hoverlabel\":{\"align\":\"left\"},\"hovermode\":\"closest\",\"mapbox\":{\"style\":\"light\"},\"paper_bgcolor\":\"white\",\"plot_bgcolor\":\"#E5ECF6\",\"polar\":{\"angularaxis\":{\"gridcolor\":\"white\",\"linecolor\":\"white\",\"ticks\":\"\"},\"bgcolor\":\"#E5ECF6\",\"radialaxis\":{\"gridcolor\":\"white\",\"linecolor\":\"white\",\"ticks\":\"\"}},\"scene\":{\"xaxis\":{\"backgroundcolor\":\"#E5ECF6\",\"gridcolor\":\"white\",\"gridwidth\":2,\"linecolor\":\"white\",\"showbackground\":true,\"ticks\":\"\",\"zerolinecolor\":\"white\"},\"yaxis\":{\"backgroundcolor\":\"#E5ECF6\",\"gridcolor\":\"white\",\"gridwidth\":2,\"linecolor\":\"white\",\"showbackground\":true,\"ticks\":\"\",\"zerolinecolor\":\"white\"},\"zaxis\":{\"backgroundcolor\":\"#E5ECF6\",\"gridcolor\":\"white\",\"gridwidth\":2,\"linecolor\":\"white\",\"showbackground\":true,\"ticks\":\"\",\"zerolinecolor\":\"white\"}},\"shapedefaults\":{\"line\":{\"color\":\"#2a3f5f\"}},\"ternary\":{\"aaxis\":{\"gridcolor\":\"white\",\"linecolor\":\"white\",\"ticks\":\"\"},\"baxis\":{\"gridcolor\":\"white\",\"linecolor\":\"white\",\"ticks\":\"\"},\"bgcolor\":\"#E5ECF6\",\"caxis\":{\"gridcolor\":\"white\",\"linecolor\":\"white\",\"ticks\":\"\"}},\"title\":{\"x\":0.05},\"xaxis\":{\"automargin\":true,\"gridcolor\":\"white\",\"linecolor\":\"white\",\"ticks\":\"\",\"title\":{\"standoff\":15},\"zerolinecolor\":\"white\",\"zerolinewidth\":2},\"yaxis\":{\"automargin\":true,\"gridcolor\":\"white\",\"linecolor\":\"white\",\"ticks\":\"\",\"title\":{\"standoff\":15},\"zerolinecolor\":\"white\",\"zerolinewidth\":2}}},\"title\":{\"text\":\"Items sold overlap  3 years\"},\"xaxis\":{\"title\":{\"text\":\"Month\"}},\"yaxis\":{\"title\":{\"text\":\"# Items sold\"}}},                        {\"responsive\": true}                    ).then(function(){\n",
       "                            \n",
       "var gd = document.getElementById('b1fb48c4-3318-4b6b-97f9-384c8c80e475');\n",
       "var x = new MutationObserver(function (mutations, observer) {{\n",
       "        var display = window.getComputedStyle(gd).display;\n",
       "        if (!display || display === 'none') {{\n",
       "            console.log([gd, 'removed!']);\n",
       "            Plotly.purge(gd);\n",
       "            observer.disconnect();\n",
       "        }}\n",
       "}});\n",
       "\n",
       "// Listen for the removal of the full notebook cells\n",
       "var notebookContainer = gd.closest('#notebook-container');\n",
       "if (notebookContainer) {{\n",
       "    x.observe(notebookContainer, {childList: true});\n",
       "}}\n",
       "\n",
       "// Listen for the clearing of the current output cell\n",
       "var outputEl = gd.closest('.output');\n",
       "if (outputEl) {{\n",
       "    x.observe(outputEl, {childList: true});\n",
       "}}\n",
       "\n",
       "                        })                };                });            </script>        </div>"
      ]
     },
     "metadata": {},
     "output_type": "display_data"
    }
   ],
   "source": [
    "Months = ['JAN', 'FEB', 'MAR', 'APR', 'MAY', 'JUN', 'JUL','AUG', 'SEP', 'OCT', 'NOV', 'DEC']\n",
    "def plot_3years_items(df1,df2,df3):\n",
    "    hover = \"%{y:#,.2f}\" \n",
    "    fig = go.Figure()\n",
    "    fig.add_trace(go.Scatter(x = Months,    y = df1['total_items']  , name = \"y2013\",  hovertemplate=\"Month: %{x} <br>\" + f\"{'#items'}: {hover}\" ))\n",
    "    fig.add_trace(go.Scatter(x = Months,    y = df2['total_items']  , name = \"y2014\",  hovertemplate=\"Month: %{x} <br>\" + f\"{'#items'}: {hover}\" ))\n",
    "    fig.add_trace(go.Scatter(x = Months,    y = df3['total_items']  , name = \"y2015\",  hovertemplate=\"Month: %{x} <br>\" + f\"{'#items'}: {hover}\" ))\n",
    "    # fig.add_trace(go.Scatter(x =important_dates,\n",
    "    #                      y = [0,0,0,0] , \n",
    "    #                      marker = {\"color\":[\"MidnightBlue\", \"IndianRed\", \"MediumPurple\",\"Orange\"], \"line\":{\"width\":1}, \"size\":8},\n",
    "    #                      mode = \"markers+text\",\n",
    "    #                      name = 'events',\n",
    "    #                      #showlegend = False,\n",
    "    #                      text = ocasion, \n",
    "    #                      textposition = \"top center\"))\n",
    "\n",
    "    fig.update_layout(xaxis_title = \"Month\",\n",
    "                  yaxis_title = '# Items sold',\n",
    "                  title = \"Items sold overlap  3 years\",\n",
    "                  height = 400,\n",
    "                  hovermode = \"x\"   )\n",
    "\n",
    "    fig.show()\n",
    "\n",
    "plot_3years_items(shifted_2013,shifted_2014,monthly_y2015)"
   ]
  },
  {
   "cell_type": "code",
   "execution_count": 111,
   "id": "ff0e350f-8ec4-4dda-a9f1-b66891c39475",
   "metadata": {},
   "outputs": [],
   "source": [
    "item = 'n_itemsE'"
   ]
  },
  {
   "cell_type": "code",
   "execution_count": 112,
   "id": "260ac463-d6e0-4677-bc30-dbfb32afc748",
   "metadata": {},
   "outputs": [
    {
     "name": "stderr",
     "output_type": "stream",
     "text": [
      "INFO:prophet:Disabling weekly seasonality. Run prophet with weekly_seasonality=True to override this.\n",
      "INFO:prophet:Disabling daily seasonality. Run prophet with daily_seasonality=True to override this.\n"
     ]
    },
    {
     "name": "stdout",
     "output_type": "stream",
     "text": [
      "Initial log joint probability = -4.41594\n",
      "    Iter      log prob        ||dx||      ||grad||       alpha      alpha0  # evals  Notes \n",
      "      99       242.999   2.78409e-06       83.9841      0.4343      0.4343      129   \n",
      "    Iter      log prob        ||dx||      ||grad||       alpha      alpha0  # evals  Notes \n",
      "     118       243.003   1.34037e-05        90.485   1.314e-07       0.001      184  LS failed, Hessian reset \n",
      "     153       243.004   8.60475e-09        102.21      0.1723      0.1723      231   \n",
      "Optimization terminated normally: \n",
      "  Convergence detected: absolute parameter change was below tolerance\n",
      "Finished calculating Forecast \n"
     ]
    }
   ],
   "source": [
    "weekly_sold_items = train_store.resample('W-Fri').agg({item:np.sum})\n",
    "weekly_sold_items['Date'] = weekly_sold_items.index\n",
    "items = weekly_sold_items.rename(columns = {'Date': 'ds', item : 'y'})\n",
    "items = items.fillna(0)\n",
    "\n",
    "my_model = Prophet(interval_width = 0.75)\n",
    "my_model.fit(items)\n",
    "    \n",
    "    # dataframe that extends into future 6 weeks \n",
    "    #future_dates = my_model.make_future_dataframe(periods = 6)\n",
    "future_dates =  pd.DataFrame({'ds': pd.date_range('2013-01-01', '2015-09-25', freq='W-Fri')})\n",
    "forecast = my_model.predict(future_dates)\n",
    "    \n",
    "print(\"Finished calculating Forecast \" )"
   ]
  },
  {
   "cell_type": "code",
   "execution_count": 113,
   "id": "e02b5bc7-4d27-442c-8804-5f1d2bdf22a7",
   "metadata": {},
   "outputs": [
    {
     "name": "stdout",
     "output_type": "stream",
     "text": [
      "Showing only one year of data\n"
     ]
    },
    {
     "data": {
      "application/vnd.plotly.v1+json": {
       "config": {
        "plotlyServerURL": "https://plot.ly"
       },
       "data": [
        {
         "hovertemplate": "Sales: %{y:$,.2f}",
         "line": {
          "color": "#6495ed"
         },
         "mode": "lines",
         "name": "Actual",
         "type": "scatter",
         "x": [
          "2013-01-04T00:00:00",
          "2013-01-11T00:00:00",
          "2013-01-18T00:00:00",
          "2013-01-25T00:00:00",
          "2013-02-01T00:00:00",
          "2013-02-08T00:00:00",
          "2013-02-15T00:00:00",
          "2013-02-22T00:00:00",
          "2013-03-01T00:00:00",
          "2013-03-08T00:00:00",
          "2013-03-15T00:00:00",
          "2013-03-22T00:00:00",
          "2013-03-29T00:00:00",
          "2013-04-05T00:00:00",
          "2013-04-12T00:00:00",
          "2013-04-19T00:00:00",
          "2013-04-26T00:00:00",
          "2013-05-03T00:00:00",
          "2013-05-10T00:00:00",
          "2013-05-17T00:00:00",
          "2013-05-24T00:00:00",
          "2013-05-31T00:00:00",
          "2013-06-07T00:00:00",
          "2013-06-14T00:00:00",
          "2013-06-21T00:00:00",
          "2013-06-28T00:00:00",
          "2013-07-05T00:00:00",
          "2013-07-12T00:00:00",
          "2013-07-19T00:00:00",
          "2013-07-26T00:00:00",
          "2013-08-02T00:00:00",
          "2013-08-09T00:00:00",
          "2013-08-16T00:00:00",
          "2013-08-23T00:00:00",
          "2013-08-30T00:00:00",
          "2013-09-06T00:00:00",
          "2013-09-13T00:00:00",
          "2013-09-20T00:00:00",
          "2013-09-27T00:00:00",
          "2013-10-04T00:00:00",
          "2013-10-11T00:00:00",
          "2013-10-18T00:00:00",
          "2013-10-25T00:00:00",
          "2013-11-01T00:00:00",
          "2013-11-08T00:00:00",
          "2013-11-15T00:00:00",
          "2013-11-22T00:00:00",
          "2013-11-29T00:00:00",
          "2013-12-06T00:00:00",
          "2013-12-13T00:00:00",
          "2013-12-20T00:00:00",
          "2013-12-27T00:00:00",
          "2014-01-03T00:00:00",
          "2014-01-10T00:00:00",
          "2014-01-17T00:00:00",
          "2014-01-24T00:00:00",
          "2014-01-31T00:00:00",
          "2014-02-07T00:00:00",
          "2014-02-14T00:00:00",
          "2014-02-21T00:00:00",
          "2014-02-28T00:00:00",
          "2014-03-07T00:00:00",
          "2014-03-14T00:00:00",
          "2014-03-21T00:00:00",
          "2014-03-28T00:00:00",
          "2014-04-04T00:00:00",
          "2014-04-11T00:00:00",
          "2014-04-18T00:00:00",
          "2014-04-25T00:00:00",
          "2014-05-02T00:00:00",
          "2014-05-09T00:00:00",
          "2014-05-16T00:00:00",
          "2014-05-23T00:00:00",
          "2014-05-30T00:00:00",
          "2014-06-06T00:00:00",
          "2014-06-13T00:00:00",
          "2014-06-20T00:00:00",
          "2014-06-27T00:00:00",
          "2014-07-04T00:00:00",
          "2014-07-11T00:00:00",
          "2014-07-18T00:00:00",
          "2014-07-25T00:00:00",
          "2014-08-01T00:00:00",
          "2014-08-08T00:00:00",
          "2014-08-15T00:00:00",
          "2014-08-22T00:00:00",
          "2014-08-29T00:00:00",
          "2014-09-05T00:00:00",
          "2014-09-12T00:00:00",
          "2014-09-19T00:00:00",
          "2014-09-26T00:00:00",
          "2014-10-03T00:00:00",
          "2014-10-10T00:00:00",
          "2014-10-17T00:00:00",
          "2014-10-24T00:00:00",
          "2014-10-31T00:00:00",
          "2014-11-07T00:00:00",
          "2014-11-14T00:00:00",
          "2014-11-21T00:00:00",
          "2014-11-28T00:00:00",
          "2014-12-05T00:00:00",
          "2014-12-12T00:00:00",
          "2014-12-19T00:00:00",
          "2014-12-26T00:00:00",
          "2015-01-02T00:00:00",
          "2015-01-09T00:00:00",
          "2015-01-16T00:00:00",
          "2015-01-23T00:00:00",
          "2015-01-30T00:00:00",
          "2015-02-06T00:00:00",
          "2015-02-13T00:00:00",
          "2015-02-20T00:00:00",
          "2015-02-27T00:00:00",
          "2015-03-06T00:00:00",
          "2015-03-13T00:00:00",
          "2015-03-20T00:00:00",
          "2015-03-27T00:00:00",
          "2015-04-03T00:00:00",
          "2015-04-10T00:00:00",
          "2015-04-17T00:00:00",
          "2015-04-24T00:00:00",
          "2015-05-01T00:00:00",
          "2015-05-08T00:00:00",
          "2015-05-15T00:00:00",
          "2015-05-22T00:00:00",
          "2015-05-29T00:00:00",
          "2015-06-05T00:00:00",
          "2015-06-12T00:00:00",
          "2015-06-19T00:00:00",
          "2015-06-26T00:00:00",
          "2015-07-03T00:00:00",
          "2015-07-10T00:00:00",
          "2015-07-17T00:00:00",
          "2015-07-24T00:00:00",
          "2015-07-31T00:00:00"
         ],
         "y": [
          108349.58355868037,
          266139.40508382913,
          185924.91076257438,
          249920.7301243916,
          202835.80854515955,
          268372.1254732288,
          196141.90373174692,
          260906.13304488914,
          202516.5548945376,
          276656.0411032991,
          197249.50784207683,
          265714.267171444,
          257564.16441319635,
          198402.1687398594,
          260842.49323958898,
          190478.2531097891,
          247353.67225527315,
          249710.5029745809,
          198369.5457003786,
          266314.2184964846,
          177790.80043266632,
          257246.26825310983,
          265631.308815576,
          205417.01460248785,
          257787.46890210928,
          209731.2439156301,
          281820.8761492699,
          207694.4023796647,
          279189.07517577073,
          197584.42401298002,
          293172.00648999464,
          213867.85289345594,
          271054.9486208762,
          193078.18280151434,
          266918.3937263386,
          204529.65386695514,
          274628.6587344511,
          190980.86533261224,
          251316.12763656033,
          197204.68361276368,
          272644.13737155223,
          200005.91130340725,
          249989.95132504057,
          192852.56895619255,
          281675.16495402926,
          206016.6955110871,
          270314.4726879395,
          235049.12385073013,
          333447.75013520825,
          245452.73120605736,
          395317.7988101677,
          208285.33802055166,
          193634.59707950245,
          275118.3126014062,
          195321.85505678746,
          264795.39751216874,
          203811.86587344512,
          288355.27312060574,
          207678.14494321257,
          266763.5316387237,
          204886.5386695511,
          284018.61005949165,
          197487.2687939427,
          259449.79989183345,
          202803.4180638183,
          285223.08274743106,
          213638.599242834,
          268175.8193618172,
          184339.31314223906,
          263401.71444023796,
          283827.7230935641,
          208178.04759329368,
          260021.70362358034,
          201265.52190373177,
          296826.9875608437,
          191496.7982693348,
          264198.5451595457,
          203535.03515413738,
          269468.22606814496,
          179978.38290968092,
          230139.49702541917,
          171141.0059491617,
          239538.30719307737,
          228343.7263385614,
          175561.56300703084,
          229875.99242833967,
          179013.86154678205,
          240068.14494321257,
          173839.9945916712,
          220418.24770146026,
          165002.97998918337,
          209865.9599783667,
          236599.65386695514,
          172146.41968631695,
          211052.7636560303,
          180905.78150351543,
          237136.59275283938,
          224375.7111952407,
          179980.04867495946,
          255102.29313142243,
          288168.26933477557,
          206238.89129259062,
          316724.8458626285,
          188798.07463493783,
          175623.12601406168,
          263151.31963223364,
          264754.5429962142,
          200076.511627907,
          266055.1595457004,
          277586.70632774476,
          212991.30340724718,
          263515.9653866955,
          209715.16495402923,
          286686.2952947539,
          212724.63493780425,
          275278.4207679827,
          211809.98377501353,
          288775.8301784749,
          204289.92969172527,
          281606.4088696593,
          205722.70957274205,
          257208.24770146026,
          295504.2184964846,
          204766.8199026501,
          277008.9237425636,
          201920.72471606274,
          283857.1227690644,
          219892.0443482964,
          288019.08599242836,
          208703.59653866958,
          303774.6890210925,
          222691.92536506223,
          280151.90914007573,
          215478.55056787454,
          289553.5640886966
         ]
        },
        {
         "hovertemplate": "Sales: %{y:$,.2f}",
         "line": {
          "color": "#fb5012"
         },
         "mode": "lines",
         "name": "Forecast",
         "type": "scatter",
         "x": [
          "2013-01-04T00:00:00",
          "2013-01-11T00:00:00",
          "2013-01-18T00:00:00",
          "2013-01-25T00:00:00",
          "2013-02-01T00:00:00",
          "2013-02-08T00:00:00",
          "2013-02-15T00:00:00",
          "2013-02-22T00:00:00",
          "2013-03-01T00:00:00",
          "2013-03-08T00:00:00",
          "2013-03-15T00:00:00",
          "2013-03-22T00:00:00",
          "2013-03-29T00:00:00",
          "2013-04-05T00:00:00",
          "2013-04-12T00:00:00",
          "2013-04-19T00:00:00",
          "2013-04-26T00:00:00",
          "2013-05-03T00:00:00",
          "2013-05-10T00:00:00",
          "2013-05-17T00:00:00",
          "2013-05-24T00:00:00",
          "2013-05-31T00:00:00",
          "2013-06-07T00:00:00",
          "2013-06-14T00:00:00",
          "2013-06-21T00:00:00",
          "2013-06-28T00:00:00",
          "2013-07-05T00:00:00",
          "2013-07-12T00:00:00",
          "2013-07-19T00:00:00",
          "2013-07-26T00:00:00",
          "2013-08-02T00:00:00",
          "2013-08-09T00:00:00",
          "2013-08-16T00:00:00",
          "2013-08-23T00:00:00",
          "2013-08-30T00:00:00",
          "2013-09-06T00:00:00",
          "2013-09-13T00:00:00",
          "2013-09-20T00:00:00",
          "2013-09-27T00:00:00",
          "2013-10-04T00:00:00",
          "2013-10-11T00:00:00",
          "2013-10-18T00:00:00",
          "2013-10-25T00:00:00",
          "2013-11-01T00:00:00",
          "2013-11-08T00:00:00",
          "2013-11-15T00:00:00",
          "2013-11-22T00:00:00",
          "2013-11-29T00:00:00",
          "2013-12-06T00:00:00",
          "2013-12-13T00:00:00",
          "2013-12-20T00:00:00",
          "2013-12-27T00:00:00",
          "2014-01-03T00:00:00",
          "2014-01-10T00:00:00",
          "2014-01-17T00:00:00",
          "2014-01-24T00:00:00",
          "2014-01-31T00:00:00",
          "2014-02-07T00:00:00",
          "2014-02-14T00:00:00",
          "2014-02-21T00:00:00",
          "2014-02-28T00:00:00",
          "2014-03-07T00:00:00",
          "2014-03-14T00:00:00",
          "2014-03-21T00:00:00",
          "2014-03-28T00:00:00",
          "2014-04-04T00:00:00",
          "2014-04-11T00:00:00",
          "2014-04-18T00:00:00",
          "2014-04-25T00:00:00",
          "2014-05-02T00:00:00",
          "2014-05-09T00:00:00",
          "2014-05-16T00:00:00",
          "2014-05-23T00:00:00",
          "2014-05-30T00:00:00",
          "2014-06-06T00:00:00",
          "2014-06-13T00:00:00",
          "2014-06-20T00:00:00",
          "2014-06-27T00:00:00",
          "2014-07-04T00:00:00",
          "2014-07-11T00:00:00",
          "2014-07-18T00:00:00",
          "2014-07-25T00:00:00",
          "2014-08-01T00:00:00",
          "2014-08-08T00:00:00",
          "2014-08-15T00:00:00",
          "2014-08-22T00:00:00",
          "2014-08-29T00:00:00",
          "2014-09-05T00:00:00",
          "2014-09-12T00:00:00",
          "2014-09-19T00:00:00",
          "2014-09-26T00:00:00",
          "2014-10-03T00:00:00",
          "2014-10-10T00:00:00",
          "2014-10-17T00:00:00",
          "2014-10-24T00:00:00",
          "2014-10-31T00:00:00",
          "2014-11-07T00:00:00",
          "2014-11-14T00:00:00",
          "2014-11-21T00:00:00",
          "2014-11-28T00:00:00",
          "2014-12-05T00:00:00",
          "2014-12-12T00:00:00",
          "2014-12-19T00:00:00",
          "2014-12-26T00:00:00",
          "2015-01-02T00:00:00",
          "2015-01-09T00:00:00",
          "2015-01-16T00:00:00",
          "2015-01-23T00:00:00",
          "2015-01-30T00:00:00",
          "2015-02-06T00:00:00",
          "2015-02-13T00:00:00",
          "2015-02-20T00:00:00",
          "2015-02-27T00:00:00",
          "2015-03-06T00:00:00",
          "2015-03-13T00:00:00",
          "2015-03-20T00:00:00",
          "2015-03-27T00:00:00",
          "2015-04-03T00:00:00",
          "2015-04-10T00:00:00",
          "2015-04-17T00:00:00",
          "2015-04-24T00:00:00",
          "2015-05-01T00:00:00",
          "2015-05-08T00:00:00",
          "2015-05-15T00:00:00",
          "2015-05-22T00:00:00",
          "2015-05-29T00:00:00",
          "2015-06-05T00:00:00",
          "2015-06-12T00:00:00",
          "2015-06-19T00:00:00",
          "2015-06-26T00:00:00",
          "2015-07-03T00:00:00",
          "2015-07-10T00:00:00",
          "2015-07-17T00:00:00",
          "2015-07-24T00:00:00",
          "2015-07-31T00:00:00",
          "2015-08-07T00:00:00",
          "2015-08-14T00:00:00",
          "2015-08-21T00:00:00",
          "2015-08-28T00:00:00",
          "2015-09-04T00:00:00",
          "2015-09-11T00:00:00",
          "2015-09-18T00:00:00",
          "2015-09-25T00:00:00"
         ],
         "y": [
          202477.89077450914,
          209336.9824323013,
          228784.13393844507,
          241971.66201460798,
          241741.43312218896,
          235457.8491728892,
          232950.35482352876,
          235602.48351897259,
          238088.121249154,
          237441.45231366326,
          236518.25348286112,
          238388.7596511788,
          240810.26467116442,
          239088.93320146346,
          233411.48554733483,
          230057.3839247324,
          233880.09448807995,
          241477.99980094517,
          244404.3884991773,
          239176.7885578329,
          231809.9414531815,
          230960.1463334241,
          237786.44981203746,
          244725.49161508738,
          244439.76419605772,
          237960.75239445118,
          232567.70132779024,
          232786.85381797154,
          235767.84623764222,
          235905.76988243507,
          231875.8444207521,
          227177.1095900157,
          224575.48635730913,
          222631.44417835533,
          218782.8208035178,
          213989.4188211028,
          211914.20077703212,
          213637.07620794277,
          215614.04910303993,
          214336.52597038928,
          211486.6518886102,
          211948.53946945065,
          216715.72314471233,
          220729.4335770326,
          220111.90675450047,
          220041.95722139793,
          231270.18110615914,
          256426.6604071125,
          281783.2257873878,
          286818.86289907404,
          264196.7956742825,
          229106.90173724497,
          206658.46287237335,
          209449.25944827098,
          228130.2019497814,
          243449.0806756947,
          245386.02434036936,
          239334.5015333239,
          235751.8076951955,
          237793.5122179678,
          240700.38834803939,
          240535.31866666273,
          239335.77408559824,
          240702.0625769525,
          243398.40877657215,
          242618.86366599688,
          237299.65832976563,
          233004.58267642886,
          235532.0101454235,
          243052.29476197207,
          247334.90787700075,
          243364.88617407906,
          235668.84884189448,
          233264.18071166708,
          239102.4215116871,
          246714.74997374648,
          247923.98640019182,
          242089.34164816837,
          235976.7410883073,
          235204.385582027,
          238132.4848301811,
          239056.613294112,
          235596.85388936417,
          230712.40461953596,
          227726.6302507948,
          225896.5543788691,
          222450.03628485915,
          217572.69094042844,
          214791.70574882266,
          215992.08675419408,
          218273.73970975724,
          217628.40171587083,
          214705.69503803586,
          214306.9817007713,
          218551.51615880933,
          223156.91713691098,
          223286.8935409121,
          222338.82495884784,
          230932.39790495418,
          254152.77706691273,
          281037.3466956029,
          290859.87608250533,
          272667.6218113111,
          237946.7548772433,
          211706.87201733314,
          210095.79909249302,
          227340.6774054131,
          244455.8221198307,
          248766.44584291335,
          243319.62866655088,
          238764.31657632953,
          240017.34193387904,
          243205.80024959735,
          243603.69274133074,
          242264.93503218115,
          243085.23835497536,
          245881.38562299238,
          246001.75369295364,
          241239.64428075711,
          236214.93968096084,
          237386.9578363215,
          244539.05133948725,
          249999.83983720158,
          247448.86153700246,
          239745.39367267073,
          235891.85956116297,
          240513.45218972195,
          248511.51891617873,
          251197.71845531947,
          246251.51380980236,
          239618.74977376248,
          237793.72417856505,
          240465.5060953113,
          242095.77212813223,
          239318.31101628253,
          234369.7227068588,
          230970.89743584424,
          229151.83198876661,
          226113.6299378585,
          221282.45662964054,
          217867.7707736828,
          218443.30912309582,
          220884.9088805329
         ]
        },
        {
         "hoverinfo": "skip",
         "line": {
          "width": 0
         },
         "mode": "lines",
         "name": "Upper",
         "showlegend": false,
         "type": "scatter",
         "x": [
          "2013-01-04T00:00:00",
          "2013-01-11T00:00:00",
          "2013-01-18T00:00:00",
          "2013-01-25T00:00:00",
          "2013-02-01T00:00:00",
          "2013-02-08T00:00:00",
          "2013-02-15T00:00:00",
          "2013-02-22T00:00:00",
          "2013-03-01T00:00:00",
          "2013-03-08T00:00:00",
          "2013-03-15T00:00:00",
          "2013-03-22T00:00:00",
          "2013-03-29T00:00:00",
          "2013-04-05T00:00:00",
          "2013-04-12T00:00:00",
          "2013-04-19T00:00:00",
          "2013-04-26T00:00:00",
          "2013-05-03T00:00:00",
          "2013-05-10T00:00:00",
          "2013-05-17T00:00:00",
          "2013-05-24T00:00:00",
          "2013-05-31T00:00:00",
          "2013-06-07T00:00:00",
          "2013-06-14T00:00:00",
          "2013-06-21T00:00:00",
          "2013-06-28T00:00:00",
          "2013-07-05T00:00:00",
          "2013-07-12T00:00:00",
          "2013-07-19T00:00:00",
          "2013-07-26T00:00:00",
          "2013-08-02T00:00:00",
          "2013-08-09T00:00:00",
          "2013-08-16T00:00:00",
          "2013-08-23T00:00:00",
          "2013-08-30T00:00:00",
          "2013-09-06T00:00:00",
          "2013-09-13T00:00:00",
          "2013-09-20T00:00:00",
          "2013-09-27T00:00:00",
          "2013-10-04T00:00:00",
          "2013-10-11T00:00:00",
          "2013-10-18T00:00:00",
          "2013-10-25T00:00:00",
          "2013-11-01T00:00:00",
          "2013-11-08T00:00:00",
          "2013-11-15T00:00:00",
          "2013-11-22T00:00:00",
          "2013-11-29T00:00:00",
          "2013-12-06T00:00:00",
          "2013-12-13T00:00:00",
          "2013-12-20T00:00:00",
          "2013-12-27T00:00:00",
          "2014-01-03T00:00:00",
          "2014-01-10T00:00:00",
          "2014-01-17T00:00:00",
          "2014-01-24T00:00:00",
          "2014-01-31T00:00:00",
          "2014-02-07T00:00:00",
          "2014-02-14T00:00:00",
          "2014-02-21T00:00:00",
          "2014-02-28T00:00:00",
          "2014-03-07T00:00:00",
          "2014-03-14T00:00:00",
          "2014-03-21T00:00:00",
          "2014-03-28T00:00:00",
          "2014-04-04T00:00:00",
          "2014-04-11T00:00:00",
          "2014-04-18T00:00:00",
          "2014-04-25T00:00:00",
          "2014-05-02T00:00:00",
          "2014-05-09T00:00:00",
          "2014-05-16T00:00:00",
          "2014-05-23T00:00:00",
          "2014-05-30T00:00:00",
          "2014-06-06T00:00:00",
          "2014-06-13T00:00:00",
          "2014-06-20T00:00:00",
          "2014-06-27T00:00:00",
          "2014-07-04T00:00:00",
          "2014-07-11T00:00:00",
          "2014-07-18T00:00:00",
          "2014-07-25T00:00:00",
          "2014-08-01T00:00:00",
          "2014-08-08T00:00:00",
          "2014-08-15T00:00:00",
          "2014-08-22T00:00:00",
          "2014-08-29T00:00:00",
          "2014-09-05T00:00:00",
          "2014-09-12T00:00:00",
          "2014-09-19T00:00:00",
          "2014-09-26T00:00:00",
          "2014-10-03T00:00:00",
          "2014-10-10T00:00:00",
          "2014-10-17T00:00:00",
          "2014-10-24T00:00:00",
          "2014-10-31T00:00:00",
          "2014-11-07T00:00:00",
          "2014-11-14T00:00:00",
          "2014-11-21T00:00:00",
          "2014-11-28T00:00:00",
          "2014-12-05T00:00:00",
          "2014-12-12T00:00:00",
          "2014-12-19T00:00:00",
          "2014-12-26T00:00:00",
          "2015-01-02T00:00:00",
          "2015-01-09T00:00:00",
          "2015-01-16T00:00:00",
          "2015-01-23T00:00:00",
          "2015-01-30T00:00:00",
          "2015-02-06T00:00:00",
          "2015-02-13T00:00:00",
          "2015-02-20T00:00:00",
          "2015-02-27T00:00:00",
          "2015-03-06T00:00:00",
          "2015-03-13T00:00:00",
          "2015-03-20T00:00:00",
          "2015-03-27T00:00:00",
          "2015-04-03T00:00:00",
          "2015-04-10T00:00:00",
          "2015-04-17T00:00:00",
          "2015-04-24T00:00:00",
          "2015-05-01T00:00:00",
          "2015-05-08T00:00:00",
          "2015-05-15T00:00:00",
          "2015-05-22T00:00:00",
          "2015-05-29T00:00:00",
          "2015-06-05T00:00:00",
          "2015-06-12T00:00:00",
          "2015-06-19T00:00:00",
          "2015-06-26T00:00:00",
          "2015-07-03T00:00:00",
          "2015-07-10T00:00:00",
          "2015-07-17T00:00:00",
          "2015-07-24T00:00:00",
          "2015-07-31T00:00:00",
          "2015-08-07T00:00:00",
          "2015-08-14T00:00:00",
          "2015-08-21T00:00:00",
          "2015-08-28T00:00:00",
          "2015-09-04T00:00:00",
          "2015-09-11T00:00:00",
          "2015-09-18T00:00:00",
          "2015-09-25T00:00:00"
         ],
         "y": [
          245855.12968762312,
          253274.47542542467,
          274688.2416481577,
          289209.8940547436,
          291734.8201739463,
          280685.01395035844,
          277653.51570494793,
          280430.8936498029,
          285027.4088649802,
          279364.69365387224,
          281125.0384323634,
          284528.193417658,
          287756.2699919361,
          281945.6637703977,
          280464.3210571954,
          276207.4027968037,
          277958.8363762796,
          286723.28923694754,
          289326.3103754251,
          284110.590913874,
          275582.1198450343,
          275962.14564598456,
          281365.0571104209,
          289550.6499110833,
          288356.33993409487,
          281813.47476965,
          278460.4073819438,
          281540.5353741606,
          279647.41798202635,
          282169.55241747363,
          279107.44565892004,
          272798.63289756933,
          268835.71762512735,
          263494.9473455718,
          262178.39973891934,
          257507.2221392056,
          259501.74823528153,
          259695.69181074924,
          258506.66878200392,
          260407.89332297057,
          255955.4247476366,
          254619.84172678864,
          261056.3044331079,
          265317.87595462956,
          263078.6638331719,
          261589.82706728016,
          279168.2566116084,
          303764.24471637164,
          329354.5129108321,
          332079.3195465958,
          311921.05847634654,
          274648.853869287,
          253340.29688858837,
          254965.4654784382,
          269837.71945069113,
          286277.5286079457,
          289564.9777342975,
          285029.26218070387,
          281281.68169859395,
          283426.1860948617,
          288005.1910030321,
          285502.53662369243,
          282680.82574770926,
          285108.5694247812,
          289429.0697211867,
          282798.9603011047,
          286673.46242715174,
          279846.951158153,
          280308.953902542,
          286526.76416043757,
          292692.5338331384,
          285296.6400323884,
          279388.10550871526,
          276512.25926449674,
          287207.6384381958,
          291258.48160956585,
          295345.0231723035,
          290760.2626481886,
          280324.16595263034,
          278727.11161214317,
          284731.3237295413,
          285844.0746540305,
          277831.0354671493,
          277942.40705086273,
          273582.050324716,
          271659.0952745432,
          268642.9748855456,
          261964.63114224942,
          257964.9193285978,
          258105.09300420756,
          263246.04641892057,
          264217.3292478168,
          260828.8273134639,
          260201.40709359891,
          263586.67484837037,
          269651.904019916,
          265556.5270991527,
          265182.32793266466,
          275703.8738293612,
          298245.9815099437,
          324900.9261132225,
          335160.89867113356,
          319042.3491842367,
          281060.89259600814,
          255513.05016677597,
          253665.4152549863,
          272231.59650607535,
          292280.11162076343,
          292774.2833277038,
          292226.5337753406,
          283296.70168781094,
          286452.2937591468,
          288316.48576284485,
          288088.24785666796,
          286198.45976411493,
          285764.9389773328,
          289621.7188697304,
          291038.3016568916,
          287872.41044137767,
          280418.76329560525,
          283516.3393075741,
          284964.20069641614,
          295295.75591520075,
          293099.8636989494,
          282385.7635018272,
          282570.22381988034,
          286474.44776728255,
          293541.93923892616,
          303280.5150320163,
          294121.8419980381,
          286377.67063448403,
          279627.2973643126,
          283979.43536919274,
          288104.5320692321,
          281600.63502375525,
          278787.10649398214,
          275383.69189366524,
          272465.57255095046,
          270123.9860989555,
          265400.496450614,
          265489.3365050657,
          260550.20461379454,
          265038.1716988193
         ]
        },
        {
         "fill": "tonexty",
         "fillcolor": "rgba(68,68,68, 0.2)",
         "hoverinfo": "skip",
         "line": {
          "width": 0
         },
         "mode": "lines",
         "name": "Upper",
         "showlegend": false,
         "type": "scatter",
         "x": [
          "2013-01-04T00:00:00",
          "2013-01-11T00:00:00",
          "2013-01-18T00:00:00",
          "2013-01-25T00:00:00",
          "2013-02-01T00:00:00",
          "2013-02-08T00:00:00",
          "2013-02-15T00:00:00",
          "2013-02-22T00:00:00",
          "2013-03-01T00:00:00",
          "2013-03-08T00:00:00",
          "2013-03-15T00:00:00",
          "2013-03-22T00:00:00",
          "2013-03-29T00:00:00",
          "2013-04-05T00:00:00",
          "2013-04-12T00:00:00",
          "2013-04-19T00:00:00",
          "2013-04-26T00:00:00",
          "2013-05-03T00:00:00",
          "2013-05-10T00:00:00",
          "2013-05-17T00:00:00",
          "2013-05-24T00:00:00",
          "2013-05-31T00:00:00",
          "2013-06-07T00:00:00",
          "2013-06-14T00:00:00",
          "2013-06-21T00:00:00",
          "2013-06-28T00:00:00",
          "2013-07-05T00:00:00",
          "2013-07-12T00:00:00",
          "2013-07-19T00:00:00",
          "2013-07-26T00:00:00",
          "2013-08-02T00:00:00",
          "2013-08-09T00:00:00",
          "2013-08-16T00:00:00",
          "2013-08-23T00:00:00",
          "2013-08-30T00:00:00",
          "2013-09-06T00:00:00",
          "2013-09-13T00:00:00",
          "2013-09-20T00:00:00",
          "2013-09-27T00:00:00",
          "2013-10-04T00:00:00",
          "2013-10-11T00:00:00",
          "2013-10-18T00:00:00",
          "2013-10-25T00:00:00",
          "2013-11-01T00:00:00",
          "2013-11-08T00:00:00",
          "2013-11-15T00:00:00",
          "2013-11-22T00:00:00",
          "2013-11-29T00:00:00",
          "2013-12-06T00:00:00",
          "2013-12-13T00:00:00",
          "2013-12-20T00:00:00",
          "2013-12-27T00:00:00",
          "2014-01-03T00:00:00",
          "2014-01-10T00:00:00",
          "2014-01-17T00:00:00",
          "2014-01-24T00:00:00",
          "2014-01-31T00:00:00",
          "2014-02-07T00:00:00",
          "2014-02-14T00:00:00",
          "2014-02-21T00:00:00",
          "2014-02-28T00:00:00",
          "2014-03-07T00:00:00",
          "2014-03-14T00:00:00",
          "2014-03-21T00:00:00",
          "2014-03-28T00:00:00",
          "2014-04-04T00:00:00",
          "2014-04-11T00:00:00",
          "2014-04-18T00:00:00",
          "2014-04-25T00:00:00",
          "2014-05-02T00:00:00",
          "2014-05-09T00:00:00",
          "2014-05-16T00:00:00",
          "2014-05-23T00:00:00",
          "2014-05-30T00:00:00",
          "2014-06-06T00:00:00",
          "2014-06-13T00:00:00",
          "2014-06-20T00:00:00",
          "2014-06-27T00:00:00",
          "2014-07-04T00:00:00",
          "2014-07-11T00:00:00",
          "2014-07-18T00:00:00",
          "2014-07-25T00:00:00",
          "2014-08-01T00:00:00",
          "2014-08-08T00:00:00",
          "2014-08-15T00:00:00",
          "2014-08-22T00:00:00",
          "2014-08-29T00:00:00",
          "2014-09-05T00:00:00",
          "2014-09-12T00:00:00",
          "2014-09-19T00:00:00",
          "2014-09-26T00:00:00",
          "2014-10-03T00:00:00",
          "2014-10-10T00:00:00",
          "2014-10-17T00:00:00",
          "2014-10-24T00:00:00",
          "2014-10-31T00:00:00",
          "2014-11-07T00:00:00",
          "2014-11-14T00:00:00",
          "2014-11-21T00:00:00",
          "2014-11-28T00:00:00",
          "2014-12-05T00:00:00",
          "2014-12-12T00:00:00",
          "2014-12-19T00:00:00",
          "2014-12-26T00:00:00",
          "2015-01-02T00:00:00",
          "2015-01-09T00:00:00",
          "2015-01-16T00:00:00",
          "2015-01-23T00:00:00",
          "2015-01-30T00:00:00",
          "2015-02-06T00:00:00",
          "2015-02-13T00:00:00",
          "2015-02-20T00:00:00",
          "2015-02-27T00:00:00",
          "2015-03-06T00:00:00",
          "2015-03-13T00:00:00",
          "2015-03-20T00:00:00",
          "2015-03-27T00:00:00",
          "2015-04-03T00:00:00",
          "2015-04-10T00:00:00",
          "2015-04-17T00:00:00",
          "2015-04-24T00:00:00",
          "2015-05-01T00:00:00",
          "2015-05-08T00:00:00",
          "2015-05-15T00:00:00",
          "2015-05-22T00:00:00",
          "2015-05-29T00:00:00",
          "2015-06-05T00:00:00",
          "2015-06-12T00:00:00",
          "2015-06-19T00:00:00",
          "2015-06-26T00:00:00",
          "2015-07-03T00:00:00",
          "2015-07-10T00:00:00",
          "2015-07-17T00:00:00",
          "2015-07-24T00:00:00",
          "2015-07-31T00:00:00",
          "2015-08-07T00:00:00",
          "2015-08-14T00:00:00",
          "2015-08-21T00:00:00",
          "2015-08-28T00:00:00",
          "2015-09-04T00:00:00",
          "2015-09-11T00:00:00",
          "2015-09-18T00:00:00",
          "2015-09-25T00:00:00"
         ],
         "y": [
          156955.3612617318,
          162114.49331306876,
          183632.076799366,
          197383.3339583009,
          196697.11470963177,
          190997.5015799523,
          186284.20845264295,
          190543.42818853218,
          194691.08513494773,
          192496.65859077018,
          190060.44752025334,
          197781.4499645949,
          197758.68276068804,
          192113.57721376963,
          186688.43796885738,
          185029.9607905749,
          190413.80015595502,
          195028.09977013947,
          198170.91532892635,
          193490.60156548547,
          185173.06923004813,
          185865.38629044953,
          195044.60632774804,
          201514.1768115379,
          194630.48304600205,
          192063.69972969644,
          185171.07394825583,
          188473.83893425044,
          189602.7414502332,
          192966.42441678437,
          186455.4397875255,
          181255.67789929162,
          181168.9686834064,
          174747.0294476222,
          173606.70899251246,
          172546.56478238635,
          169479.48794118862,
          172124.92938724798,
          169606.0355190835,
          166152.0541261215,
          166937.5271191473,
          165323.24193413055,
          170448.68804224514,
          175120.90191479988,
          174825.77983990463,
          176304.00756053402,
          186946.59679389116,
          211013.3321642508,
          239547.7357944797,
          240292.87890615303,
          219520.2419264059,
          184436.94628259912,
          162625.79260209444,
          167354.3133975427,
          182678.11952644575,
          200458.5649854962,
          200528.33197405268,
          192927.54452452995,
          188485.90859800333,
          195454.84090166856,
          196228.14444878165,
          195250.13091345635,
          191217.73347117123,
          195899.00762016457,
          194487.2146264278,
          197433.67386454623,
          192907.26608307182,
          189526.76005521187,
          191647.43257196224,
          200656.20389955144,
          203220.0243096001,
          196804.30723503715,
          190159.03506617347,
          187815.4201689489,
          195222.78995541995,
          200584.27846524233,
          200864.3967330248,
          197465.4497889993,
          196054.85864568746,
          188867.8206740821,
          191801.83411646704,
          194377.99966850315,
          187962.21083321556,
          182007.77944199185,
          183830.59228442298,
          179037.08556905008,
          176097.27298450502,
          171905.8792610396,
          171119.81665083702,
          172252.34544947665,
          170374.61344741937,
          173803.6030519826,
          170578.3772953009,
          170588.1258566262,
          172853.98919580982,
          182288.2814011915,
          179310.17657160774,
          177436.86244764001,
          184237.05563475646,
          205394.91009087514,
          236829.95824876355,
          245526.29354550104,
          224035.78392035744,
          193690.58158231433,
          162787.5174310731,
          164749.1309887398,
          182997.2566116031,
          197681.03979303248,
          205532.5838450135,
          198825.781455177,
          193648.45749418825,
          193670.21264435624,
          195685.22843552352,
          201760.62964487504,
          199079.1316329322,
          197588.80937374418,
          199332.29737759556,
          204140.08937468292,
          198350.28432030394,
          193302.61247463746,
          189830.6887803311,
          201987.05777904188,
          206972.71049977315,
          202017.9870046255,
          195663.99903777533,
          190907.21460847984,
          196959.7717188353,
          203466.29245295856,
          206065.98950863065,
          203810.7669593163,
          194344.02171834992,
          193773.0523911613,
          195767.25617596396,
          196605.69581961428,
          192558.97259079828,
          186451.49824623603,
          185568.7794476063,
          182992.125083656,
          181060.87949279227,
          171960.59225919793,
          177138.8742222134,
          175373.03706600942,
          176452.38474346363
         ]
        }
       ],
       "layout": {
        "autosize": true,
        "hovermode": "x",
        "template": {
         "data": {
          "bar": [
           {
            "error_x": {
             "color": "#2a3f5f"
            },
            "error_y": {
             "color": "#2a3f5f"
            },
            "marker": {
             "line": {
              "color": "#E5ECF6",
              "width": 0.5
             },
             "pattern": {
              "fillmode": "overlay",
              "size": 10,
              "solidity": 0.2
             }
            },
            "type": "bar"
           }
          ],
          "barpolar": [
           {
            "marker": {
             "line": {
              "color": "#E5ECF6",
              "width": 0.5
             },
             "pattern": {
              "fillmode": "overlay",
              "size": 10,
              "solidity": 0.2
             }
            },
            "type": "barpolar"
           }
          ],
          "carpet": [
           {
            "aaxis": {
             "endlinecolor": "#2a3f5f",
             "gridcolor": "white",
             "linecolor": "white",
             "minorgridcolor": "white",
             "startlinecolor": "#2a3f5f"
            },
            "baxis": {
             "endlinecolor": "#2a3f5f",
             "gridcolor": "white",
             "linecolor": "white",
             "minorgridcolor": "white",
             "startlinecolor": "#2a3f5f"
            },
            "type": "carpet"
           }
          ],
          "choropleth": [
           {
            "colorbar": {
             "outlinewidth": 0,
             "ticks": ""
            },
            "type": "choropleth"
           }
          ],
          "contour": [
           {
            "colorbar": {
             "outlinewidth": 0,
             "ticks": ""
            },
            "colorscale": [
             [
              0,
              "#0d0887"
             ],
             [
              0.1111111111111111,
              "#46039f"
             ],
             [
              0.2222222222222222,
              "#7201a8"
             ],
             [
              0.3333333333333333,
              "#9c179e"
             ],
             [
              0.4444444444444444,
              "#bd3786"
             ],
             [
              0.5555555555555556,
              "#d8576b"
             ],
             [
              0.6666666666666666,
              "#ed7953"
             ],
             [
              0.7777777777777778,
              "#fb9f3a"
             ],
             [
              0.8888888888888888,
              "#fdca26"
             ],
             [
              1,
              "#f0f921"
             ]
            ],
            "type": "contour"
           }
          ],
          "contourcarpet": [
           {
            "colorbar": {
             "outlinewidth": 0,
             "ticks": ""
            },
            "type": "contourcarpet"
           }
          ],
          "heatmap": [
           {
            "colorbar": {
             "outlinewidth": 0,
             "ticks": ""
            },
            "colorscale": [
             [
              0,
              "#0d0887"
             ],
             [
              0.1111111111111111,
              "#46039f"
             ],
             [
              0.2222222222222222,
              "#7201a8"
             ],
             [
              0.3333333333333333,
              "#9c179e"
             ],
             [
              0.4444444444444444,
              "#bd3786"
             ],
             [
              0.5555555555555556,
              "#d8576b"
             ],
             [
              0.6666666666666666,
              "#ed7953"
             ],
             [
              0.7777777777777778,
              "#fb9f3a"
             ],
             [
              0.8888888888888888,
              "#fdca26"
             ],
             [
              1,
              "#f0f921"
             ]
            ],
            "type": "heatmap"
           }
          ],
          "heatmapgl": [
           {
            "colorbar": {
             "outlinewidth": 0,
             "ticks": ""
            },
            "colorscale": [
             [
              0,
              "#0d0887"
             ],
             [
              0.1111111111111111,
              "#46039f"
             ],
             [
              0.2222222222222222,
              "#7201a8"
             ],
             [
              0.3333333333333333,
              "#9c179e"
             ],
             [
              0.4444444444444444,
              "#bd3786"
             ],
             [
              0.5555555555555556,
              "#d8576b"
             ],
             [
              0.6666666666666666,
              "#ed7953"
             ],
             [
              0.7777777777777778,
              "#fb9f3a"
             ],
             [
              0.8888888888888888,
              "#fdca26"
             ],
             [
              1,
              "#f0f921"
             ]
            ],
            "type": "heatmapgl"
           }
          ],
          "histogram": [
           {
            "marker": {
             "pattern": {
              "fillmode": "overlay",
              "size": 10,
              "solidity": 0.2
             }
            },
            "type": "histogram"
           }
          ],
          "histogram2d": [
           {
            "colorbar": {
             "outlinewidth": 0,
             "ticks": ""
            },
            "colorscale": [
             [
              0,
              "#0d0887"
             ],
             [
              0.1111111111111111,
              "#46039f"
             ],
             [
              0.2222222222222222,
              "#7201a8"
             ],
             [
              0.3333333333333333,
              "#9c179e"
             ],
             [
              0.4444444444444444,
              "#bd3786"
             ],
             [
              0.5555555555555556,
              "#d8576b"
             ],
             [
              0.6666666666666666,
              "#ed7953"
             ],
             [
              0.7777777777777778,
              "#fb9f3a"
             ],
             [
              0.8888888888888888,
              "#fdca26"
             ],
             [
              1,
              "#f0f921"
             ]
            ],
            "type": "histogram2d"
           }
          ],
          "histogram2dcontour": [
           {
            "colorbar": {
             "outlinewidth": 0,
             "ticks": ""
            },
            "colorscale": [
             [
              0,
              "#0d0887"
             ],
             [
              0.1111111111111111,
              "#46039f"
             ],
             [
              0.2222222222222222,
              "#7201a8"
             ],
             [
              0.3333333333333333,
              "#9c179e"
             ],
             [
              0.4444444444444444,
              "#bd3786"
             ],
             [
              0.5555555555555556,
              "#d8576b"
             ],
             [
              0.6666666666666666,
              "#ed7953"
             ],
             [
              0.7777777777777778,
              "#fb9f3a"
             ],
             [
              0.8888888888888888,
              "#fdca26"
             ],
             [
              1,
              "#f0f921"
             ]
            ],
            "type": "histogram2dcontour"
           }
          ],
          "mesh3d": [
           {
            "colorbar": {
             "outlinewidth": 0,
             "ticks": ""
            },
            "type": "mesh3d"
           }
          ],
          "parcoords": [
           {
            "line": {
             "colorbar": {
              "outlinewidth": 0,
              "ticks": ""
             }
            },
            "type": "parcoords"
           }
          ],
          "pie": [
           {
            "automargin": true,
            "type": "pie"
           }
          ],
          "scatter": [
           {
            "marker": {
             "colorbar": {
              "outlinewidth": 0,
              "ticks": ""
             }
            },
            "type": "scatter"
           }
          ],
          "scatter3d": [
           {
            "line": {
             "colorbar": {
              "outlinewidth": 0,
              "ticks": ""
             }
            },
            "marker": {
             "colorbar": {
              "outlinewidth": 0,
              "ticks": ""
             }
            },
            "type": "scatter3d"
           }
          ],
          "scattercarpet": [
           {
            "marker": {
             "colorbar": {
              "outlinewidth": 0,
              "ticks": ""
             }
            },
            "type": "scattercarpet"
           }
          ],
          "scattergeo": [
           {
            "marker": {
             "colorbar": {
              "outlinewidth": 0,
              "ticks": ""
             }
            },
            "type": "scattergeo"
           }
          ],
          "scattergl": [
           {
            "marker": {
             "colorbar": {
              "outlinewidth": 0,
              "ticks": ""
             }
            },
            "type": "scattergl"
           }
          ],
          "scattermapbox": [
           {
            "marker": {
             "colorbar": {
              "outlinewidth": 0,
              "ticks": ""
             }
            },
            "type": "scattermapbox"
           }
          ],
          "scatterpolar": [
           {
            "marker": {
             "colorbar": {
              "outlinewidth": 0,
              "ticks": ""
             }
            },
            "type": "scatterpolar"
           }
          ],
          "scatterpolargl": [
           {
            "marker": {
             "colorbar": {
              "outlinewidth": 0,
              "ticks": ""
             }
            },
            "type": "scatterpolargl"
           }
          ],
          "scatterternary": [
           {
            "marker": {
             "colorbar": {
              "outlinewidth": 0,
              "ticks": ""
             }
            },
            "type": "scatterternary"
           }
          ],
          "surface": [
           {
            "colorbar": {
             "outlinewidth": 0,
             "ticks": ""
            },
            "colorscale": [
             [
              0,
              "#0d0887"
             ],
             [
              0.1111111111111111,
              "#46039f"
             ],
             [
              0.2222222222222222,
              "#7201a8"
             ],
             [
              0.3333333333333333,
              "#9c179e"
             ],
             [
              0.4444444444444444,
              "#bd3786"
             ],
             [
              0.5555555555555556,
              "#d8576b"
             ],
             [
              0.6666666666666666,
              "#ed7953"
             ],
             [
              0.7777777777777778,
              "#fb9f3a"
             ],
             [
              0.8888888888888888,
              "#fdca26"
             ],
             [
              1,
              "#f0f921"
             ]
            ],
            "type": "surface"
           }
          ],
          "table": [
           {
            "cells": {
             "fill": {
              "color": "#EBF0F8"
             },
             "line": {
              "color": "white"
             }
            },
            "header": {
             "fill": {
              "color": "#C8D4E3"
             },
             "line": {
              "color": "white"
             }
            },
            "type": "table"
           }
          ]
         },
         "layout": {
          "annotationdefaults": {
           "arrowcolor": "#2a3f5f",
           "arrowhead": 0,
           "arrowwidth": 1
          },
          "autotypenumbers": "strict",
          "coloraxis": {
           "colorbar": {
            "outlinewidth": 0,
            "ticks": ""
           }
          },
          "colorscale": {
           "diverging": [
            [
             0,
             "#8e0152"
            ],
            [
             0.1,
             "#c51b7d"
            ],
            [
             0.2,
             "#de77ae"
            ],
            [
             0.3,
             "#f1b6da"
            ],
            [
             0.4,
             "#fde0ef"
            ],
            [
             0.5,
             "#f7f7f7"
            ],
            [
             0.6,
             "#e6f5d0"
            ],
            [
             0.7,
             "#b8e186"
            ],
            [
             0.8,
             "#7fbc41"
            ],
            [
             0.9,
             "#4d9221"
            ],
            [
             1,
             "#276419"
            ]
           ],
           "sequential": [
            [
             0,
             "#0d0887"
            ],
            [
             0.1111111111111111,
             "#46039f"
            ],
            [
             0.2222222222222222,
             "#7201a8"
            ],
            [
             0.3333333333333333,
             "#9c179e"
            ],
            [
             0.4444444444444444,
             "#bd3786"
            ],
            [
             0.5555555555555556,
             "#d8576b"
            ],
            [
             0.6666666666666666,
             "#ed7953"
            ],
            [
             0.7777777777777778,
             "#fb9f3a"
            ],
            [
             0.8888888888888888,
             "#fdca26"
            ],
            [
             1,
             "#f0f921"
            ]
           ],
           "sequentialminus": [
            [
             0,
             "#0d0887"
            ],
            [
             0.1111111111111111,
             "#46039f"
            ],
            [
             0.2222222222222222,
             "#7201a8"
            ],
            [
             0.3333333333333333,
             "#9c179e"
            ],
            [
             0.4444444444444444,
             "#bd3786"
            ],
            [
             0.5555555555555556,
             "#d8576b"
            ],
            [
             0.6666666666666666,
             "#ed7953"
            ],
            [
             0.7777777777777778,
             "#fb9f3a"
            ],
            [
             0.8888888888888888,
             "#fdca26"
            ],
            [
             1,
             "#f0f921"
            ]
           ]
          },
          "colorway": [
           "#636efa",
           "#EF553B",
           "#00cc96",
           "#ab63fa",
           "#FFA15A",
           "#19d3f3",
           "#FF6692",
           "#B6E880",
           "#FF97FF",
           "#FECB52"
          ],
          "font": {
           "color": "#2a3f5f"
          },
          "geo": {
           "bgcolor": "white",
           "lakecolor": "white",
           "landcolor": "#E5ECF6",
           "showlakes": true,
           "showland": true,
           "subunitcolor": "white"
          },
          "hoverlabel": {
           "align": "left"
          },
          "hovermode": "closest",
          "mapbox": {
           "style": "light"
          },
          "paper_bgcolor": "white",
          "plot_bgcolor": "#E5ECF6",
          "polar": {
           "angularaxis": {
            "gridcolor": "white",
            "linecolor": "white",
            "ticks": ""
           },
           "bgcolor": "#E5ECF6",
           "radialaxis": {
            "gridcolor": "white",
            "linecolor": "white",
            "ticks": ""
           }
          },
          "scene": {
           "xaxis": {
            "backgroundcolor": "#E5ECF6",
            "gridcolor": "white",
            "gridwidth": 2,
            "linecolor": "white",
            "showbackground": true,
            "ticks": "",
            "zerolinecolor": "white"
           },
           "yaxis": {
            "backgroundcolor": "#E5ECF6",
            "gridcolor": "white",
            "gridwidth": 2,
            "linecolor": "white",
            "showbackground": true,
            "ticks": "",
            "zerolinecolor": "white"
           },
           "zaxis": {
            "backgroundcolor": "#E5ECF6",
            "gridcolor": "white",
            "gridwidth": 2,
            "linecolor": "white",
            "showbackground": true,
            "ticks": "",
            "zerolinecolor": "white"
           }
          },
          "shapedefaults": {
           "line": {
            "color": "#2a3f5f"
           }
          },
          "ternary": {
           "aaxis": {
            "gridcolor": "white",
            "linecolor": "white",
            "ticks": ""
           },
           "baxis": {
            "gridcolor": "white",
            "linecolor": "white",
            "ticks": ""
           },
           "bgcolor": "#E5ECF6",
           "caxis": {
            "gridcolor": "white",
            "linecolor": "white",
            "ticks": ""
           }
          },
          "title": {
           "x": 0.05
          },
          "xaxis": {
           "automargin": true,
           "gridcolor": "white",
           "linecolor": "white",
           "ticks": "",
           "title": {
            "standoff": 15
           },
           "zerolinecolor": "white",
           "zerolinewidth": 2
          },
          "yaxis": {
           "automargin": true,
           "gridcolor": "white",
           "linecolor": "white",
           "ticks": "",
           "title": {
            "standoff": 15
           },
           "zerolinecolor": "white",
           "zerolinewidth": 2
          }
         }
        },
        "title": {
         "text": " helo"
        },
        "xaxis": {
         "range": [
          "2014-09-25T00:00:00",
          "2015-09-25T00:00:00"
         ],
         "title": {
          "text": "Date"
         },
         "type": "date"
        },
        "yaxis": {
         "autorange": true,
         "range": [
          92406.90493359775,
          411260.47743525036
         ],
         "title": {
          "text": "total_items"
         },
         "type": "linear"
        }
       }
      },
      "image/png": "[encoded data removed]",
      "text/html": [
       "<div>                            <div id=\"f22f9bd9-6bc1-4e05-960a-d24d4f4bfa5a\" class=\"plotly-graph-div\" style=\"height:450px; width:100%;\"></div>            <script type=\"text/javascript\">                require([\"plotly\"], function(Plotly) {                    window.PLOTLYENV=window.PLOTLYENV || {};                                    if (document.getElementById(\"f22f9bd9-6bc1-4e05-960a-d24d4f4bfa5a\")) {                    Plotly.newPlot(                        \"f22f9bd9-6bc1-4e05-960a-d24d4f4bfa5a\",                        [{\"hovertemplate\":\"Sales: %{y:$,.2f}\",\"line\":{\"color\":\"#6495ed\"},\"mode\":\"lines\",\"name\":\"Actual\",\"type\":\"scatter\",\"x\":[\"2013-01-04T00:00:00\",\"2013-01-11T00:00:00\",\"2013-01-18T00:00:00\",\"2013-01-25T00:00:00\",\"2013-02-01T00:00:00\",\"2013-02-08T00:00:00\",\"2013-02-15T00:00:00\",\"2013-02-22T00:00:00\",\"2013-03-01T00:00:00\",\"2013-03-08T00:00:00\",\"2013-03-15T00:00:00\",\"2013-03-22T00:00:00\",\"2013-03-29T00:00:00\",\"2013-04-05T00:00:00\",\"2013-04-12T00:00:00\",\"2013-04-19T00:00:00\",\"2013-04-26T00:00:00\",\"2013-05-03T00:00:00\",\"2013-05-10T00:00:00\",\"2013-05-17T00:00:00\",\"2013-05-24T00:00:00\",\"2013-05-31T00:00:00\",\"2013-06-07T00:00:00\",\"2013-06-14T00:00:00\",\"2013-06-21T00:00:00\",\"2013-06-28T00:00:00\",\"2013-07-05T00:00:00\",\"2013-07-12T00:00:00\",\"2013-07-19T00:00:00\",\"2013-07-26T00:00:00\",\"2013-08-02T00:00:00\",\"2013-08-09T00:00:00\",\"2013-08-16T00:00:00\",\"2013-08-23T00:00:00\",\"2013-08-30T00:00:00\",\"2013-09-06T00:00:00\",\"2013-09-13T00:00:00\",\"2013-09-20T00:00:00\",\"2013-09-27T00:00:00\",\"2013-10-04T00:00:00\",\"2013-10-11T00:00:00\",\"2013-10-18T00:00:00\",\"2013-10-25T00:00:00\",\"2013-11-01T00:00:00\",\"2013-11-08T00:00:00\",\"2013-11-15T00:00:00\",\"2013-11-22T00:00:00\",\"2013-11-29T00:00:00\",\"2013-12-06T00:00:00\",\"2013-12-13T00:00:00\",\"2013-12-20T00:00:00\",\"2013-12-27T00:00:00\",\"2014-01-03T00:00:00\",\"2014-01-10T00:00:00\",\"2014-01-17T00:00:00\",\"2014-01-24T00:00:00\",\"2014-01-31T00:00:00\",\"2014-02-07T00:00:00\",\"2014-02-14T00:00:00\",\"2014-02-21T00:00:00\",\"2014-02-28T00:00:00\",\"2014-03-07T00:00:00\",\"2014-03-14T00:00:00\",\"2014-03-21T00:00:00\",\"2014-03-28T00:00:00\",\"2014-04-04T00:00:00\",\"2014-04-11T00:00:00\",\"2014-04-18T00:00:00\",\"2014-04-25T00:00:00\",\"2014-05-02T00:00:00\",\"2014-05-09T00:00:00\",\"2014-05-16T00:00:00\",\"2014-05-23T00:00:00\",\"2014-05-30T00:00:00\",\"2014-06-06T00:00:00\",\"2014-06-13T00:00:00\",\"2014-06-20T00:00:00\",\"2014-06-27T00:00:00\",\"2014-07-04T00:00:00\",\"2014-07-11T00:00:00\",\"2014-07-18T00:00:00\",\"2014-07-25T00:00:00\",\"2014-08-01T00:00:00\",\"2014-08-08T00:00:00\",\"2014-08-15T00:00:00\",\"2014-08-22T00:00:00\",\"2014-08-29T00:00:00\",\"2014-09-05T00:00:00\",\"2014-09-12T00:00:00\",\"2014-09-19T00:00:00\",\"2014-09-26T00:00:00\",\"2014-10-03T00:00:00\",\"2014-10-10T00:00:00\",\"2014-10-17T00:00:00\",\"2014-10-24T00:00:00\",\"2014-10-31T00:00:00\",\"2014-11-07T00:00:00\",\"2014-11-14T00:00:00\",\"2014-11-21T00:00:00\",\"2014-11-28T00:00:00\",\"2014-12-05T00:00:00\",\"2014-12-12T00:00:00\",\"2014-12-19T00:00:00\",\"2014-12-26T00:00:00\",\"2015-01-02T00:00:00\",\"2015-01-09T00:00:00\",\"2015-01-16T00:00:00\",\"2015-01-23T00:00:00\",\"2015-01-30T00:00:00\",\"2015-02-06T00:00:00\",\"2015-02-13T00:00:00\",\"2015-02-20T00:00:00\",\"2015-02-27T00:00:00\",\"2015-03-06T00:00:00\",\"2015-03-13T00:00:00\",\"2015-03-20T00:00:00\",\"2015-03-27T00:00:00\",\"2015-04-03T00:00:00\",\"2015-04-10T00:00:00\",\"2015-04-17T00:00:00\",\"2015-04-24T00:00:00\",\"2015-05-01T00:00:00\",\"2015-05-08T00:00:00\",\"2015-05-15T00:00:00\",\"2015-05-22T00:00:00\",\"2015-05-29T00:00:00\",\"2015-06-05T00:00:00\",\"2015-06-12T00:00:00\",\"2015-06-19T00:00:00\",\"2015-06-26T00:00:00\",\"2015-07-03T00:00:00\",\"2015-07-10T00:00:00\",\"2015-07-17T00:00:00\",\"2015-07-24T00:00:00\",\"2015-07-31T00:00:00\"],\"y\":[108349.58355868037,266139.40508382913,185924.91076257438,249920.7301243916,202835.80854515955,268372.1254732288,196141.90373174692,260906.13304488914,202516.5548945376,276656.0411032991,197249.50784207683,265714.267171444,257564.16441319635,198402.1687398594,260842.49323958898,190478.2531097891,247353.67225527315,249710.5029745809,198369.5457003786,266314.2184964846,177790.80043266632,257246.26825310983,265631.308815576,205417.01460248785,257787.46890210928,209731.2439156301,281820.8761492699,207694.4023796647,279189.07517577073,197584.42401298002,293172.00648999464,213867.85289345594,271054.9486208762,193078.18280151434,266918.3937263386,204529.65386695514,274628.6587344511,190980.86533261224,251316.12763656033,197204.68361276368,272644.13737155223,200005.91130340725,249989.95132504057,192852.56895619255,281675.16495402926,206016.6955110871,270314.4726879395,235049.12385073013,333447.75013520825,245452.73120605736,395317.7988101677,208285.33802055166,193634.59707950245,275118.3126014062,195321.85505678746,264795.39751216874,203811.86587344512,288355.27312060574,207678.14494321257,266763.5316387237,204886.5386695511,284018.61005949165,197487.2687939427,259449.79989183345,202803.4180638183,285223.08274743106,213638.599242834,268175.8193618172,184339.31314223906,263401.71444023796,283827.7230935641,208178.04759329368,260021.70362358034,201265.52190373177,296826.9875608437,191496.7982693348,264198.5451595457,203535.03515413738,269468.22606814496,179978.38290968092,230139.49702541917,171141.0059491617,239538.30719307737,228343.7263385614,175561.56300703084,229875.99242833967,179013.86154678205,240068.14494321257,173839.9945916712,220418.24770146026,165002.97998918337,209865.9599783667,236599.65386695514,172146.41968631695,211052.7636560303,180905.78150351543,237136.59275283938,224375.7111952407,179980.04867495946,255102.29313142243,288168.26933477557,206238.89129259062,316724.8458626285,188798.07463493783,175623.12601406168,263151.31963223364,264754.5429962142,200076.511627907,266055.1595457004,277586.70632774476,212991.30340724718,263515.9653866955,209715.16495402923,286686.2952947539,212724.63493780425,275278.4207679827,211809.98377501353,288775.8301784749,204289.92969172527,281606.4088696593,205722.70957274205,257208.24770146026,295504.2184964846,204766.8199026501,277008.9237425636,201920.72471606274,283857.1227690644,219892.0443482964,288019.08599242836,208703.59653866958,303774.6890210925,222691.92536506223,280151.90914007573,215478.55056787454,289553.5640886966]},{\"hovertemplate\":\"Sales: %{y:$,.2f}\",\"line\":{\"color\":\"#fb5012\"},\"mode\":\"lines\",\"name\":\"Forecast\",\"type\":\"scatter\",\"x\":[\"2013-01-04T00:00:00\",\"2013-01-11T00:00:00\",\"2013-01-18T00:00:00\",\"2013-01-25T00:00:00\",\"2013-02-01T00:00:00\",\"2013-02-08T00:00:00\",\"2013-02-15T00:00:00\",\"2013-02-22T00:00:00\",\"2013-03-01T00:00:00\",\"2013-03-08T00:00:00\",\"2013-03-15T00:00:00\",\"2013-03-22T00:00:00\",\"2013-03-29T00:00:00\",\"2013-04-05T00:00:00\",\"2013-04-12T00:00:00\",\"2013-04-19T00:00:00\",\"2013-04-26T00:00:00\",\"2013-05-03T00:00:00\",\"2013-05-10T00:00:00\",\"2013-05-17T00:00:00\",\"2013-05-24T00:00:00\",\"2013-05-31T00:00:00\",\"2013-06-07T00:00:00\",\"2013-06-14T00:00:00\",\"2013-06-21T00:00:00\",\"2013-06-28T00:00:00\",\"2013-07-05T00:00:00\",\"2013-07-12T00:00:00\",\"2013-07-19T00:00:00\",\"2013-07-26T00:00:00\",\"2013-08-02T00:00:00\",\"2013-08-09T00:00:00\",\"2013-08-16T00:00:00\",\"2013-08-23T00:00:00\",\"2013-08-30T00:00:00\",\"2013-09-06T00:00:00\",\"2013-09-13T00:00:00\",\"2013-09-20T00:00:00\",\"2013-09-27T00:00:00\",\"2013-10-04T00:00:00\",\"2013-10-11T00:00:00\",\"2013-10-18T00:00:00\",\"2013-10-25T00:00:00\",\"2013-11-01T00:00:00\",\"2013-11-08T00:00:00\",\"2013-11-15T00:00:00\",\"2013-11-22T00:00:00\",\"2013-11-29T00:00:00\",\"2013-12-06T00:00:00\",\"2013-12-13T00:00:00\",\"2013-12-20T00:00:00\",\"2013-12-27T00:00:00\",\"2014-01-03T00:00:00\",\"2014-01-10T00:00:00\",\"2014-01-17T00:00:00\",\"2014-01-24T00:00:00\",\"2014-01-31T00:00:00\",\"2014-02-07T00:00:00\",\"2014-02-14T00:00:00\",\"2014-02-21T00:00:00\",\"2014-02-28T00:00:00\",\"2014-03-07T00:00:00\",\"2014-03-14T00:00:00\",\"2014-03-21T00:00:00\",\"2014-03-28T00:00:00\",\"2014-04-04T00:00:00\",\"2014-04-11T00:00:00\",\"2014-04-18T00:00:00\",\"2014-04-25T00:00:00\",\"2014-05-02T00:00:00\",\"2014-05-09T00:00:00\",\"2014-05-16T00:00:00\",\"2014-05-23T00:00:00\",\"2014-05-30T00:00:00\",\"2014-06-06T00:00:00\",\"2014-06-13T00:00:00\",\"2014-06-20T00:00:00\",\"2014-06-27T00:00:00\",\"2014-07-04T00:00:00\",\"2014-07-11T00:00:00\",\"2014-07-18T00:00:00\",\"2014-07-25T00:00:00\",\"2014-08-01T00:00:00\",\"2014-08-08T00:00:00\",\"2014-08-15T00:00:00\",\"2014-08-22T00:00:00\",\"2014-08-29T00:00:00\",\"2014-09-05T00:00:00\",\"2014-09-12T00:00:00\",\"2014-09-19T00:00:00\",\"2014-09-26T00:00:00\",\"2014-10-03T00:00:00\",\"2014-10-10T00:00:00\",\"2014-10-17T00:00:00\",\"2014-10-24T00:00:00\",\"2014-10-31T00:00:00\",\"2014-11-07T00:00:00\",\"2014-11-14T00:00:00\",\"2014-11-21T00:00:00\",\"2014-11-28T00:00:00\",\"2014-12-05T00:00:00\",\"2014-12-12T00:00:00\",\"2014-12-19T00:00:00\",\"2014-12-26T00:00:00\",\"2015-01-02T00:00:00\",\"2015-01-09T00:00:00\",\"2015-01-16T00:00:00\",\"2015-01-23T00:00:00\",\"2015-01-30T00:00:00\",\"2015-02-06T00:00:00\",\"2015-02-13T00:00:00\",\"2015-02-20T00:00:00\",\"2015-02-27T00:00:00\",\"2015-03-06T00:00:00\",\"2015-03-13T00:00:00\",\"2015-03-20T00:00:00\",\"2015-03-27T00:00:00\",\"2015-04-03T00:00:00\",\"2015-04-10T00:00:00\",\"2015-04-17T00:00:00\",\"2015-04-24T00:00:00\",\"2015-05-01T00:00:00\",\"2015-05-08T00:00:00\",\"2015-05-15T00:00:00\",\"2015-05-22T00:00:00\",\"2015-05-29T00:00:00\",\"2015-06-05T00:00:00\",\"2015-06-12T00:00:00\",\"2015-06-19T00:00:00\",\"2015-06-26T00:00:00\",\"2015-07-03T00:00:00\",\"2015-07-10T00:00:00\",\"2015-07-17T00:00:00\",\"2015-07-24T00:00:00\",\"2015-07-31T00:00:00\",\"2015-08-07T00:00:00\",\"2015-08-14T00:00:00\",\"2015-08-21T00:00:00\",\"2015-08-28T00:00:00\",\"2015-09-04T00:00:00\",\"2015-09-11T00:00:00\",\"2015-09-18T00:00:00\",\"2015-09-25T00:00:00\"],\"y\":[202477.89077450914,209336.9824323013,228784.13393844507,241971.66201460798,241741.43312218896,235457.8491728892,232950.35482352876,235602.48351897259,238088.121249154,237441.45231366326,236518.25348286112,238388.7596511788,240810.26467116442,239088.93320146346,233411.48554733483,230057.3839247324,233880.09448807995,241477.99980094517,244404.3884991773,239176.7885578329,231809.9414531815,230960.1463334241,237786.44981203746,244725.49161508738,244439.76419605772,237960.75239445118,232567.70132779024,232786.85381797154,235767.84623764222,235905.76988243507,231875.8444207521,227177.1095900157,224575.48635730913,222631.44417835533,218782.8208035178,213989.4188211028,211914.20077703212,213637.07620794277,215614.04910303993,214336.52597038928,211486.6518886102,211948.53946945065,216715.72314471233,220729.4335770326,220111.90675450047,220041.95722139793,231270.18110615914,256426.6604071125,281783.2257873878,286818.86289907404,264196.7956742825,229106.90173724497,206658.46287237335,209449.25944827098,228130.2019497814,243449.0806756947,245386.02434036936,239334.5015333239,235751.8076951955,237793.5122179678,240700.38834803939,240535.31866666273,239335.77408559824,240702.0625769525,243398.40877657215,242618.86366599688,237299.65832976563,233004.58267642886,235532.0101454235,243052.29476197207,247334.90787700075,243364.88617407906,235668.84884189448,233264.18071166708,239102.4215116871,246714.74997374648,247923.98640019182,242089.34164816837,235976.7410883073,235204.385582027,238132.4848301811,239056.613294112,235596.85388936417,230712.40461953596,227726.6302507948,225896.5543788691,222450.03628485915,217572.69094042844,214791.70574882266,215992.08675419408,218273.73970975724,217628.40171587083,214705.69503803586,214306.9817007713,218551.51615880933,223156.91713691098,223286.8935409121,222338.82495884784,230932.39790495418,254152.77706691273,281037.3466956029,290859.87608250533,272667.6218113111,237946.7548772433,211706.87201733314,210095.79909249302,227340.6774054131,244455.8221198307,248766.44584291335,243319.62866655088,238764.31657632953,240017.34193387904,243205.80024959735,243603.69274133074,242264.93503218115,243085.23835497536,245881.38562299238,246001.75369295364,241239.64428075711,236214.93968096084,237386.9578363215,244539.05133948725,249999.83983720158,247448.86153700246,239745.39367267073,235891.85956116297,240513.45218972195,248511.51891617873,251197.71845531947,246251.51380980236,239618.74977376248,237793.72417856505,240465.5060953113,242095.77212813223,239318.31101628253,234369.7227068588,230970.89743584424,229151.83198876661,226113.6299378585,221282.45662964054,217867.7707736828,218443.30912309582,220884.9088805329]},{\"hoverinfo\":\"skip\",\"line\":{\"width\":0},\"mode\":\"lines\",\"name\":\"Upper\",\"showlegend\":false,\"type\":\"scatter\",\"x\":[\"2013-01-04T00:00:00\",\"2013-01-11T00:00:00\",\"2013-01-18T00:00:00\",\"2013-01-25T00:00:00\",\"2013-02-01T00:00:00\",\"2013-02-08T00:00:00\",\"2013-02-15T00:00:00\",\"2013-02-22T00:00:00\",\"2013-03-01T00:00:00\",\"2013-03-08T00:00:00\",\"2013-03-15T00:00:00\",\"2013-03-22T00:00:00\",\"2013-03-29T00:00:00\",\"2013-04-05T00:00:00\",\"2013-04-12T00:00:00\",\"2013-04-19T00:00:00\",\"2013-04-26T00:00:00\",\"2013-05-03T00:00:00\",\"2013-05-10T00:00:00\",\"2013-05-17T00:00:00\",\"2013-05-24T00:00:00\",\"2013-05-31T00:00:00\",\"2013-06-07T00:00:00\",\"2013-06-14T00:00:00\",\"2013-06-21T00:00:00\",\"2013-06-28T00:00:00\",\"2013-07-05T00:00:00\",\"2013-07-12T00:00:00\",\"2013-07-19T00:00:00\",\"2013-07-26T00:00:00\",\"2013-08-02T00:00:00\",\"2013-08-09T00:00:00\",\"2013-08-16T00:00:00\",\"2013-08-23T00:00:00\",\"2013-08-30T00:00:00\",\"2013-09-06T00:00:00\",\"2013-09-13T00:00:00\",\"2013-09-20T00:00:00\",\"2013-09-27T00:00:00\",\"2013-10-04T00:00:00\",\"2013-10-11T00:00:00\",\"2013-10-18T00:00:00\",\"2013-10-25T00:00:00\",\"2013-11-01T00:00:00\",\"2013-11-08T00:00:00\",\"2013-11-15T00:00:00\",\"2013-11-22T00:00:00\",\"2013-11-29T00:00:00\",\"2013-12-06T00:00:00\",\"2013-12-13T00:00:00\",\"2013-12-20T00:00:00\",\"2013-12-27T00:00:00\",\"2014-01-03T00:00:00\",\"2014-01-10T00:00:00\",\"2014-01-17T00:00:00\",\"2014-01-24T00:00:00\",\"2014-01-31T00:00:00\",\"2014-02-07T00:00:00\",\"2014-02-14T00:00:00\",\"2014-02-21T00:00:00\",\"2014-02-28T00:00:00\",\"2014-03-07T00:00:00\",\"2014-03-14T00:00:00\",\"2014-03-21T00:00:00\",\"2014-03-28T00:00:00\",\"2014-04-04T00:00:00\",\"2014-04-11T00:00:00\",\"2014-04-18T00:00:00\",\"2014-04-25T00:00:00\",\"2014-05-02T00:00:00\",\"2014-05-09T00:00:00\",\"2014-05-16T00:00:00\",\"2014-05-23T00:00:00\",\"2014-05-30T00:00:00\",\"2014-06-06T00:00:00\",\"2014-06-13T00:00:00\",\"2014-06-20T00:00:00\",\"2014-06-27T00:00:00\",\"2014-07-04T00:00:00\",\"2014-07-11T00:00:00\",\"2014-07-18T00:00:00\",\"2014-07-25T00:00:00\",\"2014-08-01T00:00:00\",\"2014-08-08T00:00:00\",\"2014-08-15T00:00:00\",\"2014-08-22T00:00:00\",\"2014-08-29T00:00:00\",\"2014-09-05T00:00:00\",\"2014-09-12T00:00:00\",\"2014-09-19T00:00:00\",\"2014-09-26T00:00:00\",\"2014-10-03T00:00:00\",\"2014-10-10T00:00:00\",\"2014-10-17T00:00:00\",\"2014-10-24T00:00:00\",\"2014-10-31T00:00:00\",\"2014-11-07T00:00:00\",\"2014-11-14T00:00:00\",\"2014-11-21T00:00:00\",\"2014-11-28T00:00:00\",\"2014-12-05T00:00:00\",\"2014-12-12T00:00:00\",\"2014-12-19T00:00:00\",\"2014-12-26T00:00:00\",\"2015-01-02T00:00:00\",\"2015-01-09T00:00:00\",\"2015-01-16T00:00:00\",\"2015-01-23T00:00:00\",\"2015-01-30T00:00:00\",\"2015-02-06T00:00:00\",\"2015-02-13T00:00:00\",\"2015-02-20T00:00:00\",\"2015-02-27T00:00:00\",\"2015-03-06T00:00:00\",\"2015-03-13T00:00:00\",\"2015-03-20T00:00:00\",\"2015-03-27T00:00:00\",\"2015-04-03T00:00:00\",\"2015-04-10T00:00:00\",\"2015-04-17T00:00:00\",\"2015-04-24T00:00:00\",\"2015-05-01T00:00:00\",\"2015-05-08T00:00:00\",\"2015-05-15T00:00:00\",\"2015-05-22T00:00:00\",\"2015-05-29T00:00:00\",\"2015-06-05T00:00:00\",\"2015-06-12T00:00:00\",\"2015-06-19T00:00:00\",\"2015-06-26T00:00:00\",\"2015-07-03T00:00:00\",\"2015-07-10T00:00:00\",\"2015-07-17T00:00:00\",\"2015-07-24T00:00:00\",\"2015-07-31T00:00:00\",\"2015-08-07T00:00:00\",\"2015-08-14T00:00:00\",\"2015-08-21T00:00:00\",\"2015-08-28T00:00:00\",\"2015-09-04T00:00:00\",\"2015-09-11T00:00:00\",\"2015-09-18T00:00:00\",\"2015-09-25T00:00:00\"],\"y\":[245855.12968762312,253274.47542542467,274688.2416481577,289209.8940547436,291734.8201739463,280685.01395035844,277653.51570494793,280430.8936498029,285027.4088649802,279364.69365387224,281125.0384323634,284528.193417658,287756.2699919361,281945.6637703977,280464.3210571954,276207.4027968037,277958.8363762796,286723.28923694754,289326.3103754251,284110.590913874,275582.1198450343,275962.14564598456,281365.0571104209,289550.6499110833,288356.33993409487,281813.47476965,278460.4073819438,281540.5353741606,279647.41798202635,282169.55241747363,279107.44565892004,272798.63289756933,268835.71762512735,263494.9473455718,262178.39973891934,257507.2221392056,259501.74823528153,259695.69181074924,258506.66878200392,260407.89332297057,255955.4247476366,254619.84172678864,261056.3044331079,265317.87595462956,263078.6638331719,261589.82706728016,279168.2566116084,303764.24471637164,329354.5129108321,332079.3195465958,311921.05847634654,274648.853869287,253340.29688858837,254965.4654784382,269837.71945069113,286277.5286079457,289564.9777342975,285029.26218070387,281281.68169859395,283426.1860948617,288005.1910030321,285502.53662369243,282680.82574770926,285108.5694247812,289429.0697211867,282798.9603011047,286673.46242715174,279846.951158153,280308.953902542,286526.76416043757,292692.5338331384,285296.6400323884,279388.10550871526,276512.25926449674,287207.6384381958,291258.48160956585,295345.0231723035,290760.2626481886,280324.16595263034,278727.11161214317,284731.3237295413,285844.0746540305,277831.0354671493,277942.40705086273,273582.050324716,271659.0952745432,268642.9748855456,261964.63114224942,257964.9193285978,258105.09300420756,263246.04641892057,264217.3292478168,260828.8273134639,260201.40709359891,263586.67484837037,269651.904019916,265556.5270991527,265182.32793266466,275703.8738293612,298245.9815099437,324900.9261132225,335160.89867113356,319042.3491842367,281060.89259600814,255513.05016677597,253665.4152549863,272231.59650607535,292280.11162076343,292774.2833277038,292226.5337753406,283296.70168781094,286452.2937591468,288316.48576284485,288088.24785666796,286198.45976411493,285764.9389773328,289621.7188697304,291038.3016568916,287872.41044137767,280418.76329560525,283516.3393075741,284964.20069641614,295295.75591520075,293099.8636989494,282385.7635018272,282570.22381988034,286474.44776728255,293541.93923892616,303280.5150320163,294121.8419980381,286377.67063448403,279627.2973643126,283979.43536919274,288104.5320692321,281600.63502375525,278787.10649398214,275383.69189366524,272465.57255095046,270123.9860989555,265400.496450614,265489.3365050657,260550.20461379454,265038.1716988193]},{\"fill\":\"tonexty\",\"fillcolor\":\"rgba(68,68,68, 0.2)\",\"hoverinfo\":\"skip\",\"line\":{\"width\":0},\"mode\":\"lines\",\"name\":\"Upper\",\"showlegend\":false,\"type\":\"scatter\",\"x\":[\"2013-01-04T00:00:00\",\"2013-01-11T00:00:00\",\"2013-01-18T00:00:00\",\"2013-01-25T00:00:00\",\"2013-02-01T00:00:00\",\"2013-02-08T00:00:00\",\"2013-02-15T00:00:00\",\"2013-02-22T00:00:00\",\"2013-03-01T00:00:00\",\"2013-03-08T00:00:00\",\"2013-03-15T00:00:00\",\"2013-03-22T00:00:00\",\"2013-03-29T00:00:00\",\"2013-04-05T00:00:00\",\"2013-04-12T00:00:00\",\"2013-04-19T00:00:00\",\"2013-04-26T00:00:00\",\"2013-05-03T00:00:00\",\"2013-05-10T00:00:00\",\"2013-05-17T00:00:00\",\"2013-05-24T00:00:00\",\"2013-05-31T00:00:00\",\"2013-06-07T00:00:00\",\"2013-06-14T00:00:00\",\"2013-06-21T00:00:00\",\"2013-06-28T00:00:00\",\"2013-07-05T00:00:00\",\"2013-07-12T00:00:00\",\"2013-07-19T00:00:00\",\"2013-07-26T00:00:00\",\"2013-08-02T00:00:00\",\"2013-08-09T00:00:00\",\"2013-08-16T00:00:00\",\"2013-08-23T00:00:00\",\"2013-08-30T00:00:00\",\"2013-09-06T00:00:00\",\"2013-09-13T00:00:00\",\"2013-09-20T00:00:00\",\"2013-09-27T00:00:00\",\"2013-10-04T00:00:00\",\"2013-10-11T00:00:00\",\"2013-10-18T00:00:00\",\"2013-10-25T00:00:00\",\"2013-11-01T00:00:00\",\"2013-11-08T00:00:00\",\"2013-11-15T00:00:00\",\"2013-11-22T00:00:00\",\"2013-11-29T00:00:00\",\"2013-12-06T00:00:00\",\"2013-12-13T00:00:00\",\"2013-12-20T00:00:00\",\"2013-12-27T00:00:00\",\"2014-01-03T00:00:00\",\"2014-01-10T00:00:00\",\"2014-01-17T00:00:00\",\"2014-01-24T00:00:00\",\"2014-01-31T00:00:00\",\"2014-02-07T00:00:00\",\"2014-02-14T00:00:00\",\"2014-02-21T00:00:00\",\"2014-02-28T00:00:00\",\"2014-03-07T00:00:00\",\"2014-03-14T00:00:00\",\"2014-03-21T00:00:00\",\"2014-03-28T00:00:00\",\"2014-04-04T00:00:00\",\"2014-04-11T00:00:00\",\"2014-04-18T00:00:00\",\"2014-04-25T00:00:00\",\"2014-05-02T00:00:00\",\"2014-05-09T00:00:00\",\"2014-05-16T00:00:00\",\"2014-05-23T00:00:00\",\"2014-05-30T00:00:00\",\"2014-06-06T00:00:00\",\"2014-06-13T00:00:00\",\"2014-06-20T00:00:00\",\"2014-06-27T00:00:00\",\"2014-07-04T00:00:00\",\"2014-07-11T00:00:00\",\"2014-07-18T00:00:00\",\"2014-07-25T00:00:00\",\"2014-08-01T00:00:00\",\"2014-08-08T00:00:00\",\"2014-08-15T00:00:00\",\"2014-08-22T00:00:00\",\"2014-08-29T00:00:00\",\"2014-09-05T00:00:00\",\"2014-09-12T00:00:00\",\"2014-09-19T00:00:00\",\"2014-09-26T00:00:00\",\"2014-10-03T00:00:00\",\"2014-10-10T00:00:00\",\"2014-10-17T00:00:00\",\"2014-10-24T00:00:00\",\"2014-10-31T00:00:00\",\"2014-11-07T00:00:00\",\"2014-11-14T00:00:00\",\"2014-11-21T00:00:00\",\"2014-11-28T00:00:00\",\"2014-12-05T00:00:00\",\"2014-12-12T00:00:00\",\"2014-12-19T00:00:00\",\"2014-12-26T00:00:00\",\"2015-01-02T00:00:00\",\"2015-01-09T00:00:00\",\"2015-01-16T00:00:00\",\"2015-01-23T00:00:00\",\"2015-01-30T00:00:00\",\"2015-02-06T00:00:00\",\"2015-02-13T00:00:00\",\"2015-02-20T00:00:00\",\"2015-02-27T00:00:00\",\"2015-03-06T00:00:00\",\"2015-03-13T00:00:00\",\"2015-03-20T00:00:00\",\"2015-03-27T00:00:00\",\"2015-04-03T00:00:00\",\"2015-04-10T00:00:00\",\"2015-04-17T00:00:00\",\"2015-04-24T00:00:00\",\"2015-05-01T00:00:00\",\"2015-05-08T00:00:00\",\"2015-05-15T00:00:00\",\"2015-05-22T00:00:00\",\"2015-05-29T00:00:00\",\"2015-06-05T00:00:00\",\"2015-06-12T00:00:00\",\"2015-06-19T00:00:00\",\"2015-06-26T00:00:00\",\"2015-07-03T00:00:00\",\"2015-07-10T00:00:00\",\"2015-07-17T00:00:00\",\"2015-07-24T00:00:00\",\"2015-07-31T00:00:00\",\"2015-08-07T00:00:00\",\"2015-08-14T00:00:00\",\"2015-08-21T00:00:00\",\"2015-08-28T00:00:00\",\"2015-09-04T00:00:00\",\"2015-09-11T00:00:00\",\"2015-09-18T00:00:00\",\"2015-09-25T00:00:00\"],\"y\":[156955.3612617318,162114.49331306876,183632.076799366,197383.3339583009,196697.11470963177,190997.5015799523,186284.20845264295,190543.42818853218,194691.08513494773,192496.65859077018,190060.44752025334,197781.4499645949,197758.68276068804,192113.57721376963,186688.43796885738,185029.9607905749,190413.80015595502,195028.09977013947,198170.91532892635,193490.60156548547,185173.06923004813,185865.38629044953,195044.60632774804,201514.1768115379,194630.48304600205,192063.69972969644,185171.07394825583,188473.83893425044,189602.7414502332,192966.42441678437,186455.4397875255,181255.67789929162,181168.9686834064,174747.0294476222,173606.70899251246,172546.56478238635,169479.48794118862,172124.92938724798,169606.0355190835,166152.0541261215,166937.5271191473,165323.24193413055,170448.68804224514,175120.90191479988,174825.77983990463,176304.00756053402,186946.59679389116,211013.3321642508,239547.7357944797,240292.87890615303,219520.2419264059,184436.94628259912,162625.79260209444,167354.3133975427,182678.11952644575,200458.5649854962,200528.33197405268,192927.54452452995,188485.90859800333,195454.84090166856,196228.14444878165,195250.13091345635,191217.73347117123,195899.00762016457,194487.2146264278,197433.67386454623,192907.26608307182,189526.76005521187,191647.43257196224,200656.20389955144,203220.0243096001,196804.30723503715,190159.03506617347,187815.4201689489,195222.78995541995,200584.27846524233,200864.3967330248,197465.4497889993,196054.85864568746,188867.8206740821,191801.83411646704,194377.99966850315,187962.21083321556,182007.77944199185,183830.59228442298,179037.08556905008,176097.27298450502,171905.8792610396,171119.81665083702,172252.34544947665,170374.61344741937,173803.6030519826,170578.3772953009,170588.1258566262,172853.98919580982,182288.2814011915,179310.17657160774,177436.86244764001,184237.05563475646,205394.91009087514,236829.95824876355,245526.29354550104,224035.78392035744,193690.58158231433,162787.5174310731,164749.1309887398,182997.2566116031,197681.03979303248,205532.5838450135,198825.781455177,193648.45749418825,193670.21264435624,195685.22843552352,201760.62964487504,199079.1316329322,197588.80937374418,199332.29737759556,204140.08937468292,198350.28432030394,193302.61247463746,189830.6887803311,201987.05777904188,206972.71049977315,202017.9870046255,195663.99903777533,190907.21460847984,196959.7717188353,203466.29245295856,206065.98950863065,203810.7669593163,194344.02171834992,193773.0523911613,195767.25617596396,196605.69581961428,192558.97259079828,186451.49824623603,185568.7794476063,182992.125083656,181060.87949279227,171960.59225919793,177138.8742222134,175373.03706600942,176452.38474346363]}],                        {\"height\":450,\"hovermode\":\"x\",\"template\":{\"data\":{\"bar\":[{\"error_x\":{\"color\":\"#2a3f5f\"},\"error_y\":{\"color\":\"#2a3f5f\"},\"marker\":{\"line\":{\"color\":\"#E5ECF6\",\"width\":0.5},\"pattern\":{\"fillmode\":\"overlay\",\"size\":10,\"solidity\":0.2}},\"type\":\"bar\"}],\"barpolar\":[{\"marker\":{\"line\":{\"color\":\"#E5ECF6\",\"width\":0.5},\"pattern\":{\"fillmode\":\"overlay\",\"size\":10,\"solidity\":0.2}},\"type\":\"barpolar\"}],\"carpet\":[{\"aaxis\":{\"endlinecolor\":\"#2a3f5f\",\"gridcolor\":\"white\",\"linecolor\":\"white\",\"minorgridcolor\":\"white\",\"startlinecolor\":\"#2a3f5f\"},\"baxis\":{\"endlinecolor\":\"#2a3f5f\",\"gridcolor\":\"white\",\"linecolor\":\"white\",\"minorgridcolor\":\"white\",\"startlinecolor\":\"#2a3f5f\"},\"type\":\"carpet\"}],\"choropleth\":[{\"colorbar\":{\"outlinewidth\":0,\"ticks\":\"\"},\"type\":\"choropleth\"}],\"contour\":[{\"colorbar\":{\"outlinewidth\":0,\"ticks\":\"\"},\"colorscale\":[[0.0,\"#0d0887\"],[0.1111111111111111,\"#46039f\"],[0.2222222222222222,\"#7201a8\"],[0.3333333333333333,\"#9c179e\"],[0.4444444444444444,\"#bd3786\"],[0.5555555555555556,\"#d8576b\"],[0.6666666666666666,\"#ed7953\"],[0.7777777777777778,\"#fb9f3a\"],[0.8888888888888888,\"#fdca26\"],[1.0,\"#f0f921\"]],\"type\":\"contour\"}],\"contourcarpet\":[{\"colorbar\":{\"outlinewidth\":0,\"ticks\":\"\"},\"type\":\"contourcarpet\"}],\"heatmap\":[{\"colorbar\":{\"outlinewidth\":0,\"ticks\":\"\"},\"colorscale\":[[0.0,\"#0d0887\"],[0.1111111111111111,\"#46039f\"],[0.2222222222222222,\"#7201a8\"],[0.3333333333333333,\"#9c179e\"],[0.4444444444444444,\"#bd3786\"],[0.5555555555555556,\"#d8576b\"],[0.6666666666666666,\"#ed7953\"],[0.7777777777777778,\"#fb9f3a\"],[0.8888888888888888,\"#fdca26\"],[1.0,\"#f0f921\"]],\"type\":\"heatmap\"}],\"heatmapgl\":[{\"colorbar\":{\"outlinewidth\":0,\"ticks\":\"\"},\"colorscale\":[[0.0,\"#0d0887\"],[0.1111111111111111,\"#46039f\"],[0.2222222222222222,\"#7201a8\"],[0.3333333333333333,\"#9c179e\"],[0.4444444444444444,\"#bd3786\"],[0.5555555555555556,\"#d8576b\"],[0.6666666666666666,\"#ed7953\"],[0.7777777777777778,\"#fb9f3a\"],[0.8888888888888888,\"#fdca26\"],[1.0,\"#f0f921\"]],\"type\":\"heatmapgl\"}],\"histogram\":[{\"marker\":{\"pattern\":{\"fillmode\":\"overlay\",\"size\":10,\"solidity\":0.2}},\"type\":\"histogram\"}],\"histogram2d\":[{\"colorbar\":{\"outlinewidth\":0,\"ticks\":\"\"},\"colorscale\":[[0.0,\"#0d0887\"],[0.1111111111111111,\"#46039f\"],[0.2222222222222222,\"#7201a8\"],[0.3333333333333333,\"#9c179e\"],[0.4444444444444444,\"#bd3786\"],[0.5555555555555556,\"#d8576b\"],[0.6666666666666666,\"#ed7953\"],[0.7777777777777778,\"#fb9f3a\"],[0.8888888888888888,\"#fdca26\"],[1.0,\"#f0f921\"]],\"type\":\"histogram2d\"}],\"histogram2dcontour\":[{\"colorbar\":{\"outlinewidth\":0,\"ticks\":\"\"},\"colorscale\":[[0.0,\"#0d0887\"],[0.1111111111111111,\"#46039f\"],[0.2222222222222222,\"#7201a8\"],[0.3333333333333333,\"#9c179e\"],[0.4444444444444444,\"#bd3786\"],[0.5555555555555556,\"#d8576b\"],[0.6666666666666666,\"#ed7953\"],[0.7777777777777778,\"#fb9f3a\"],[0.8888888888888888,\"#fdca26\"],[1.0,\"#f0f921\"]],\"type\":\"histogram2dcontour\"}],\"mesh3d\":[{\"colorbar\":{\"outlinewidth\":0,\"ticks\":\"\"},\"type\":\"mesh3d\"}],\"parcoords\":[{\"line\":{\"colorbar\":{\"outlinewidth\":0,\"ticks\":\"\"}},\"type\":\"parcoords\"}],\"pie\":[{\"automargin\":true,\"type\":\"pie\"}],\"scatter\":[{\"marker\":{\"colorbar\":{\"outlinewidth\":0,\"ticks\":\"\"}},\"type\":\"scatter\"}],\"scatter3d\":[{\"line\":{\"colorbar\":{\"outlinewidth\":0,\"ticks\":\"\"}},\"marker\":{\"colorbar\":{\"outlinewidth\":0,\"ticks\":\"\"}},\"type\":\"scatter3d\"}],\"scattercarpet\":[{\"marker\":{\"colorbar\":{\"outlinewidth\":0,\"ticks\":\"\"}},\"type\":\"scattercarpet\"}],\"scattergeo\":[{\"marker\":{\"colorbar\":{\"outlinewidth\":0,\"ticks\":\"\"}},\"type\":\"scattergeo\"}],\"scattergl\":[{\"marker\":{\"colorbar\":{\"outlinewidth\":0,\"ticks\":\"\"}},\"type\":\"scattergl\"}],\"scattermapbox\":[{\"marker\":{\"colorbar\":{\"outlinewidth\":0,\"ticks\":\"\"}},\"type\":\"scattermapbox\"}],\"scatterpolar\":[{\"marker\":{\"colorbar\":{\"outlinewidth\":0,\"ticks\":\"\"}},\"type\":\"scatterpolar\"}],\"scatterpolargl\":[{\"marker\":{\"colorbar\":{\"outlinewidth\":0,\"ticks\":\"\"}},\"type\":\"scatterpolargl\"}],\"scatterternary\":[{\"marker\":{\"colorbar\":{\"outlinewidth\":0,\"ticks\":\"\"}},\"type\":\"scatterternary\"}],\"surface\":[{\"colorbar\":{\"outlinewidth\":0,\"ticks\":\"\"},\"colorscale\":[[0.0,\"#0d0887\"],[0.1111111111111111,\"#46039f\"],[0.2222222222222222,\"#7201a8\"],[0.3333333333333333,\"#9c179e\"],[0.4444444444444444,\"#bd3786\"],[0.5555555555555556,\"#d8576b\"],[0.6666666666666666,\"#ed7953\"],[0.7777777777777778,\"#fb9f3a\"],[0.8888888888888888,\"#fdca26\"],[1.0,\"#f0f921\"]],\"type\":\"surface\"}],\"table\":[{\"cells\":{\"fill\":{\"color\":\"#EBF0F8\"},\"line\":{\"color\":\"white\"}},\"header\":{\"fill\":{\"color\":\"#C8D4E3\"},\"line\":{\"color\":\"white\"}},\"type\":\"table\"}]},\"layout\":{\"annotationdefaults\":{\"arrowcolor\":\"#2a3f5f\",\"arrowhead\":0,\"arrowwidth\":1},\"autotypenumbers\":\"strict\",\"coloraxis\":{\"colorbar\":{\"outlinewidth\":0,\"ticks\":\"\"}},\"colorscale\":{\"diverging\":[[0,\"#8e0152\"],[0.1,\"#c51b7d\"],[0.2,\"#de77ae\"],[0.3,\"#f1b6da\"],[0.4,\"#fde0ef\"],[0.5,\"#f7f7f7\"],[0.6,\"#e6f5d0\"],[0.7,\"#b8e186\"],[0.8,\"#7fbc41\"],[0.9,\"#4d9221\"],[1,\"#276419\"]],\"sequential\":[[0.0,\"#0d0887\"],[0.1111111111111111,\"#46039f\"],[0.2222222222222222,\"#7201a8\"],[0.3333333333333333,\"#9c179e\"],[0.4444444444444444,\"#bd3786\"],[0.5555555555555556,\"#d8576b\"],[0.6666666666666666,\"#ed7953\"],[0.7777777777777778,\"#fb9f3a\"],[0.8888888888888888,\"#fdca26\"],[1.0,\"#f0f921\"]],\"sequentialminus\":[[0.0,\"#0d0887\"],[0.1111111111111111,\"#46039f\"],[0.2222222222222222,\"#7201a8\"],[0.3333333333333333,\"#9c179e\"],[0.4444444444444444,\"#bd3786\"],[0.5555555555555556,\"#d8576b\"],[0.6666666666666666,\"#ed7953\"],[0.7777777777777778,\"#fb9f3a\"],[0.8888888888888888,\"#fdca26\"],[1.0,\"#f0f921\"]]},\"colorway\":[\"#636efa\",\"#EF553B\",\"#00cc96\",\"#ab63fa\",\"#FFA15A\",\"#19d3f3\",\"#FF6692\",\"#B6E880\",\"#FF97FF\",\"#FECB52\"],\"font\":{\"color\":\"#2a3f5f\"},\"geo\":{\"bgcolor\":\"white\",\"lakecolor\":\"white\",\"landcolor\":\"#E5ECF6\",\"showlakes\":true,\"showland\":true,\"subunitcolor\":\"white\"},\"hoverlabel\":{\"align\":\"left\"},\"hovermode\":\"closest\",\"mapbox\":{\"style\":\"light\"},\"paper_bgcolor\":\"white\",\"plot_bgcolor\":\"#E5ECF6\",\"polar\":{\"angularaxis\":{\"gridcolor\":\"white\",\"linecolor\":\"white\",\"ticks\":\"\"},\"bgcolor\":\"#E5ECF6\",\"radialaxis\":{\"gridcolor\":\"white\",\"linecolor\":\"white\",\"ticks\":\"\"}},\"scene\":{\"xaxis\":{\"backgroundcolor\":\"#E5ECF6\",\"gridcolor\":\"white\",\"gridwidth\":2,\"linecolor\":\"white\",\"showbackground\":true,\"ticks\":\"\",\"zerolinecolor\":\"white\"},\"yaxis\":{\"backgroundcolor\":\"#E5ECF6\",\"gridcolor\":\"white\",\"gridwidth\":2,\"linecolor\":\"white\",\"showbackground\":true,\"ticks\":\"\",\"zerolinecolor\":\"white\"},\"zaxis\":{\"backgroundcolor\":\"#E5ECF6\",\"gridcolor\":\"white\",\"gridwidth\":2,\"linecolor\":\"white\",\"showbackground\":true,\"ticks\":\"\",\"zerolinecolor\":\"white\"}},\"shapedefaults\":{\"line\":{\"color\":\"#2a3f5f\"}},\"ternary\":{\"aaxis\":{\"gridcolor\":\"white\",\"linecolor\":\"white\",\"ticks\":\"\"},\"baxis\":{\"gridcolor\":\"white\",\"linecolor\":\"white\",\"ticks\":\"\"},\"bgcolor\":\"#E5ECF6\",\"caxis\":{\"gridcolor\":\"white\",\"linecolor\":\"white\",\"ticks\":\"\"}},\"title\":{\"x\":0.05},\"xaxis\":{\"automargin\":true,\"gridcolor\":\"white\",\"linecolor\":\"white\",\"ticks\":\"\",\"title\":{\"standoff\":15},\"zerolinecolor\":\"white\",\"zerolinewidth\":2},\"yaxis\":{\"automargin\":true,\"gridcolor\":\"white\",\"linecolor\":\"white\",\"ticks\":\"\",\"title\":{\"standoff\":15},\"zerolinecolor\":\"white\",\"zerolinewidth\":2}}},\"title\":{\"text\":\" helo\"},\"xaxis\":{\"range\":[\"2014-09-25T00:00:00\",\"2015-09-25T00:00:00\"],\"title\":{\"text\":\"Date\"}},\"yaxis\":{\"title\":{\"text\":\"total_items\"}}},                        {\"responsive\": true}                    ).then(function(){\n",
       "                            \n",
       "var gd = document.getElementById('f22f9bd9-6bc1-4e05-960a-d24d4f4bfa5a');\n",
       "var x = new MutationObserver(function (mutations, observer) {{\n",
       "        var display = window.getComputedStyle(gd).display;\n",
       "        if (!display || display === 'none') {{\n",
       "            console.log([gd, 'removed!']);\n",
       "            Plotly.purge(gd);\n",
       "            observer.disconnect();\n",
       "        }}\n",
       "}});\n",
       "\n",
       "// Listen for the removal of the full notebook cells\n",
       "var notebookContainer = gd.closest('#notebook-container');\n",
       "if (notebookContainer) {{\n",
       "    x.observe(notebookContainer, {childList: true});\n",
       "}}\n",
       "\n",
       "// Listen for the clearing of the current output cell\n",
       "var outputEl = gd.closest('.output');\n",
       "if (outputEl) {{\n",
       "    x.observe(outputEl, {childList: true});\n",
       "}}\n",
       "\n",
       "                        })                };                });            </script>        </div>"
      ]
     },
     "metadata": {},
     "output_type": "display_data"
    }
   ],
   "source": [
    "plot_individual_store_prediction(forecast, items, 0, 'total_items', \" helo\")"
   ]
  },
  {
   "cell_type": "code",
   "execution_count": 88,
   "id": "560fbfd2-e322-4182-900f-8606cb3c0009",
   "metadata": {},
   "outputs": [],
   "source": [
    "def time_interval(some_df):\n",
    "    one_year = timedelta(days=365)\n",
    "    last = len(some_df)\n",
    "\n",
    "    last = some_df.ds.values[last-1]\n",
    "    last = pd.to_datetime(last)\n",
    "\n",
    "    start = last - one_year \n",
    "    \n",
    "    return start, last\n",
    "\n",
    "def plot_individual_store_prediction(df_forecast, df_sales, store, feature, title_):\n",
    "    \n",
    "    start, end = time_interval(df_forecast)\n",
    "\n",
    "    fig = go.Figure()\n",
    "    fig.add_trace(go.Scatter(x = df_sales['ds'],   y = df_sales['y']     , name = \"Actual\",   hovertemplate=\"Sales: %{y:$,.2f}\" , mode = 'lines', line =dict(color=\"#6495ed\")))\n",
    "    fig.add_trace(go.Scatter(x = df_forecast.ds,   y = df_forecast.yhat  , name = \"Forecast\", hovertemplate=\"Sales: %{y:$,.2f}\" , mode = 'lines', line =dict(color=\"#fb5012\")))\n",
    "    fig.add_trace(go.Scatter(x = df_forecast.ds,   y = df_forecast.yhat_upper , mode = 'lines', line = dict(width = 0), hoverinfo = \"skip\", showlegend = False, name = \"Upper\" ))\n",
    "    fig.add_trace(go.Scatter(x = df_forecast.ds,   y = df_forecast.yhat_lower , mode = 'lines', line = dict(width = 0) , fillcolor= 'rgba(68,68,68, 0.2)', fill = \"tonexty\", hoverinfo = \"skip\", showlegend = False, name = \"Upper\" ))\n",
    "\n",
    "    fig.update_layout(xaxis_title = \"Date\",\n",
    "                      yaxis_title = feature,\n",
    "                      #title = \"Forecast: open on sundays - Store no. \" + str(store),\n",
    "                      height = 450,\n",
    "                      title = title_,\n",
    "                      hovermode = \"x\",\n",
    "                      xaxis_range = [start, end]   )\n",
    "\n",
    "    print(\"Showing only one year of data\")\n",
    "\n",
    "    return fig"
   ]
  },
  {
   "cell_type": "code",
   "execution_count": 90,
   "id": "c9c954dd-241e-4d40-b92f-952b15fb08b5",
   "metadata": {},
   "outputs": [
    {
     "data": {
      "text/html": [
       "<div>\n",
       "<style scoped>\n",
       "    .dataframe tbody tr th:only-of-type {\n",
       "        vertical-align: middle;\n",
       "    }\n",
       "\n",
       "    .dataframe tbody tr th {\n",
       "        vertical-align: top;\n",
       "    }\n",
       "\n",
       "    .dataframe thead th {\n",
       "        text-align: right;\n",
       "    }\n",
       "</style>\n",
       "<table border=\"1\" class=\"dataframe\">\n",
       "  <thead>\n",
       "    <tr style=\"text-align: right;\">\n",
       "      <th></th>\n",
       "      <th>Store</th>\n",
       "      <th>DayOfWeek</th>\n",
       "      <th>Date</th>\n",
       "      <th>Sales</th>\n",
       "      <th>Customers</th>\n",
       "      <th>SchoolHoliday</th>\n",
       "      <th>StoreType</th>\n",
       "      <th>sales_PA</th>\n",
       "      <th>sales_PB</th>\n",
       "      <th>sales_PC</th>\n",
       "      <th>sales_PD</th>\n",
       "      <th>sales_PE</th>\n",
       "      <th>n_itemsA</th>\n",
       "      <th>n_itemsB</th>\n",
       "      <th>n_itemsC</th>\n",
       "      <th>n_itemsD</th>\n",
       "      <th>n_itemsE</th>\n",
       "      <th>total_items</th>\n",
       "    </tr>\n",
       "    <tr>\n",
       "      <th>Date</th>\n",
       "      <th></th>\n",
       "      <th></th>\n",
       "      <th></th>\n",
       "      <th></th>\n",
       "      <th></th>\n",
       "      <th></th>\n",
       "      <th></th>\n",
       "      <th></th>\n",
       "      <th></th>\n",
       "      <th></th>\n",
       "      <th></th>\n",
       "      <th></th>\n",
       "      <th></th>\n",
       "      <th></th>\n",
       "      <th></th>\n",
       "      <th></th>\n",
       "      <th></th>\n",
       "      <th></th>\n",
       "    </tr>\n",
       "  </thead>\n",
       "  <tbody>\n",
       "    <tr>\n",
       "      <th>2015-07-31</th>\n",
       "      <td>1</td>\n",
       "      <td>5</td>\n",
       "      <td>2015-07-31</td>\n",
       "      <td>5263</td>\n",
       "      <td>555</td>\n",
       "      <td>1</td>\n",
       "      <td>c</td>\n",
       "      <td>1052.6</td>\n",
       "      <td>1052.6</td>\n",
       "      <td>1052.6</td>\n",
       "      <td>1052.6</td>\n",
       "      <td>1052.6</td>\n",
       "      <td>104.736318</td>\n",
       "      <td>13.155856</td>\n",
       "      <td>182.110727</td>\n",
       "      <td>45.665944</td>\n",
       "      <td>28.464035</td>\n",
       "      <td>374.132879</td>\n",
       "    </tr>\n",
       "    <tr>\n",
       "      <th>2015-07-30</th>\n",
       "      <td>1</td>\n",
       "      <td>4</td>\n",
       "      <td>2015-07-30</td>\n",
       "      <td>5020</td>\n",
       "      <td>546</td>\n",
       "      <td>1</td>\n",
       "      <td>c</td>\n",
       "      <td>1004.0</td>\n",
       "      <td>1004.0</td>\n",
       "      <td>1004.0</td>\n",
       "      <td>1004.0</td>\n",
       "      <td>1004.0</td>\n",
       "      <td>99.900498</td>\n",
       "      <td>12.548431</td>\n",
       "      <td>173.702422</td>\n",
       "      <td>43.557484</td>\n",
       "      <td>27.149811</td>\n",
       "      <td>356.858646</td>\n",
       "    </tr>\n",
       "    <tr>\n",
       "      <th>2015-07-29</th>\n",
       "      <td>1</td>\n",
       "      <td>3</td>\n",
       "      <td>2015-07-29</td>\n",
       "      <td>4782</td>\n",
       "      <td>523</td>\n",
       "      <td>1</td>\n",
       "      <td>c</td>\n",
       "      <td>956.4</td>\n",
       "      <td>956.4</td>\n",
       "      <td>956.4</td>\n",
       "      <td>956.4</td>\n",
       "      <td>956.4</td>\n",
       "      <td>95.164179</td>\n",
       "      <td>11.953506</td>\n",
       "      <td>165.467128</td>\n",
       "      <td>41.492408</td>\n",
       "      <td>25.862628</td>\n",
       "      <td>339.939849</td>\n",
       "    </tr>\n",
       "    <tr>\n",
       "      <th>2015-07-28</th>\n",
       "      <td>1</td>\n",
       "      <td>2</td>\n",
       "      <td>2015-07-28</td>\n",
       "      <td>5011</td>\n",
       "      <td>560</td>\n",
       "      <td>1</td>\n",
       "      <td>c</td>\n",
       "      <td>1002.2</td>\n",
       "      <td>1002.2</td>\n",
       "      <td>1002.2</td>\n",
       "      <td>1002.2</td>\n",
       "      <td>1002.2</td>\n",
       "      <td>99.721393</td>\n",
       "      <td>12.525934</td>\n",
       "      <td>173.391003</td>\n",
       "      <td>43.479393</td>\n",
       "      <td>27.101136</td>\n",
       "      <td>356.218859</td>\n",
       "    </tr>\n",
       "    <tr>\n",
       "      <th>2015-07-27</th>\n",
       "      <td>1</td>\n",
       "      <td>1</td>\n",
       "      <td>2015-07-27</td>\n",
       "      <td>6102</td>\n",
       "      <td>612</td>\n",
       "      <td>1</td>\n",
       "      <td>c</td>\n",
       "      <td>1220.4</td>\n",
       "      <td>1220.4</td>\n",
       "      <td>1220.4</td>\n",
       "      <td>1220.4</td>\n",
       "      <td>1220.4</td>\n",
       "      <td>121.432836</td>\n",
       "      <td>15.253093</td>\n",
       "      <td>211.141869</td>\n",
       "      <td>52.945770</td>\n",
       "      <td>33.001622</td>\n",
       "      <td>433.775190</td>\n",
       "    </tr>\n",
       "    <tr>\n",
       "      <th>...</th>\n",
       "      <td>...</td>\n",
       "      <td>...</td>\n",
       "      <td>...</td>\n",
       "      <td>...</td>\n",
       "      <td>...</td>\n",
       "      <td>...</td>\n",
       "      <td>...</td>\n",
       "      <td>...</td>\n",
       "      <td>...</td>\n",
       "      <td>...</td>\n",
       "      <td>...</td>\n",
       "      <td>...</td>\n",
       "      <td>...</td>\n",
       "      <td>...</td>\n",
       "      <td>...</td>\n",
       "      <td>...</td>\n",
       "      <td>...</td>\n",
       "      <td>...</td>\n",
       "    </tr>\n",
       "    <tr>\n",
       "      <th>2013-01-05</th>\n",
       "      <td>1115</td>\n",
       "      <td>6</td>\n",
       "      <td>2013-01-05</td>\n",
       "      <td>4771</td>\n",
       "      <td>339</td>\n",
       "      <td>1</td>\n",
       "      <td>d</td>\n",
       "      <td>954.2</td>\n",
       "      <td>954.2</td>\n",
       "      <td>954.2</td>\n",
       "      <td>954.2</td>\n",
       "      <td>954.2</td>\n",
       "      <td>94.945274</td>\n",
       "      <td>11.926009</td>\n",
       "      <td>165.086505</td>\n",
       "      <td>41.396963</td>\n",
       "      <td>25.803137</td>\n",
       "      <td>339.157888</td>\n",
       "    </tr>\n",
       "    <tr>\n",
       "      <th>2013-01-04</th>\n",
       "      <td>1115</td>\n",
       "      <td>5</td>\n",
       "      <td>2013-01-04</td>\n",
       "      <td>4540</td>\n",
       "      <td>326</td>\n",
       "      <td>1</td>\n",
       "      <td>d</td>\n",
       "      <td>908.0</td>\n",
       "      <td>908.0</td>\n",
       "      <td>908.0</td>\n",
       "      <td>908.0</td>\n",
       "      <td>908.0</td>\n",
       "      <td>90.348259</td>\n",
       "      <td>11.348581</td>\n",
       "      <td>157.093426</td>\n",
       "      <td>39.392625</td>\n",
       "      <td>24.553813</td>\n",
       "      <td>322.736703</td>\n",
       "    </tr>\n",
       "    <tr>\n",
       "      <th>2013-01-03</th>\n",
       "      <td>1115</td>\n",
       "      <td>4</td>\n",
       "      <td>2013-01-03</td>\n",
       "      <td>4297</td>\n",
       "      <td>300</td>\n",
       "      <td>1</td>\n",
       "      <td>d</td>\n",
       "      <td>859.4</td>\n",
       "      <td>859.4</td>\n",
       "      <td>859.4</td>\n",
       "      <td>859.4</td>\n",
       "      <td>859.4</td>\n",
       "      <td>85.512438</td>\n",
       "      <td>10.741157</td>\n",
       "      <td>148.685121</td>\n",
       "      <td>37.284165</td>\n",
       "      <td>23.239589</td>\n",
       "      <td>305.462470</td>\n",
       "    </tr>\n",
       "    <tr>\n",
       "      <th>2013-01-02</th>\n",
       "      <td>1115</td>\n",
       "      <td>3</td>\n",
       "      <td>2013-01-02</td>\n",
       "      <td>3697</td>\n",
       "      <td>305</td>\n",
       "      <td>1</td>\n",
       "      <td>d</td>\n",
       "      <td>739.4</td>\n",
       "      <td>739.4</td>\n",
       "      <td>739.4</td>\n",
       "      <td>739.4</td>\n",
       "      <td>739.4</td>\n",
       "      <td>73.572139</td>\n",
       "      <td>9.241345</td>\n",
       "      <td>127.923875</td>\n",
       "      <td>32.078091</td>\n",
       "      <td>19.994592</td>\n",
       "      <td>262.810042</td>\n",
       "    </tr>\n",
       "    <tr>\n",
       "      <th>2013-01-01</th>\n",
       "      <td>1115</td>\n",
       "      <td>2</td>\n",
       "      <td>2013-01-01</td>\n",
       "      <td>0</td>\n",
       "      <td>0</td>\n",
       "      <td>1</td>\n",
       "      <td>d</td>\n",
       "      <td>0.0</td>\n",
       "      <td>0.0</td>\n",
       "      <td>0.0</td>\n",
       "      <td>0.0</td>\n",
       "      <td>0.0</td>\n",
       "      <td>0.000000</td>\n",
       "      <td>0.000000</td>\n",
       "      <td>0.000000</td>\n",
       "      <td>0.000000</td>\n",
       "      <td>0.000000</td>\n",
       "      <td>0.000000</td>\n",
       "    </tr>\n",
       "  </tbody>\n",
       "</table>\n",
       "<p>1017209 rows × 18 columns</p>\n",
       "</div>"
      ],
      "text/plain": [
       "            Store  DayOfWeek       Date  Sales  Customers  SchoolHoliday  \\\n",
       "Date                                                                       \n",
       "2015-07-31      1          5 2015-07-31   5263        555              1   \n",
       "2015-07-30      1          4 2015-07-30   5020        546              1   \n",
       "2015-07-29      1          3 2015-07-29   4782        523              1   \n",
       "2015-07-28      1          2 2015-07-28   5011        560              1   \n",
       "2015-07-27      1          1 2015-07-27   6102        612              1   \n",
       "...           ...        ...        ...    ...        ...            ...   \n",
       "2013-01-05   1115          6 2013-01-05   4771        339              1   \n",
       "2013-01-04   1115          5 2013-01-04   4540        326              1   \n",
       "2013-01-03   1115          4 2013-01-03   4297        300              1   \n",
       "2013-01-02   1115          3 2013-01-02   3697        305              1   \n",
       "2013-01-01   1115          2 2013-01-01      0          0              1   \n",
       "\n",
       "           StoreType  sales_PA  sales_PB  sales_PC  sales_PD  sales_PE  \\\n",
       "Date                                                                     \n",
       "2015-07-31         c    1052.6    1052.6    1052.6    1052.6    1052.6   \n",
       "2015-07-30         c    1004.0    1004.0    1004.0    1004.0    1004.0   \n",
       "2015-07-29         c     956.4     956.4     956.4     956.4     956.4   \n",
       "2015-07-28         c    1002.2    1002.2    1002.2    1002.2    1002.2   \n",
       "2015-07-27         c    1220.4    1220.4    1220.4    1220.4    1220.4   \n",
       "...              ...       ...       ...       ...       ...       ...   \n",
       "2013-01-05         d     954.2     954.2     954.2     954.2     954.2   \n",
       "2013-01-04         d     908.0     908.0     908.0     908.0     908.0   \n",
       "2013-01-03         d     859.4     859.4     859.4     859.4     859.4   \n",
       "2013-01-02         d     739.4     739.4     739.4     739.4     739.4   \n",
       "2013-01-01         d       0.0       0.0       0.0       0.0       0.0   \n",
       "\n",
       "              n_itemsA   n_itemsB    n_itemsC   n_itemsD   n_itemsE  \\\n",
       "Date                                                                  \n",
       "2015-07-31  104.736318  13.155856  182.110727  45.665944  28.464035   \n",
       "2015-07-30   99.900498  12.548431  173.702422  43.557484  27.149811   \n",
       "2015-07-29   95.164179  11.953506  165.467128  41.492408  25.862628   \n",
       "2015-07-28   99.721393  12.525934  173.391003  43.479393  27.101136   \n",
       "2015-07-27  121.432836  15.253093  211.141869  52.945770  33.001622   \n",
       "...                ...        ...         ...        ...        ...   \n",
       "2013-01-05   94.945274  11.926009  165.086505  41.396963  25.803137   \n",
       "2013-01-04   90.348259  11.348581  157.093426  39.392625  24.553813   \n",
       "2013-01-03   85.512438  10.741157  148.685121  37.284165  23.239589   \n",
       "2013-01-02   73.572139   9.241345  127.923875  32.078091  19.994592   \n",
       "2013-01-01    0.000000   0.000000    0.000000   0.000000   0.000000   \n",
       "\n",
       "            total_items  \n",
       "Date                     \n",
       "2015-07-31   374.132879  \n",
       "2015-07-30   356.858646  \n",
       "2015-07-29   339.939849  \n",
       "2015-07-28   356.218859  \n",
       "2015-07-27   433.775190  \n",
       "...                 ...  \n",
       "2013-01-05   339.157888  \n",
       "2013-01-04   322.736703  \n",
       "2013-01-03   305.462470  \n",
       "2013-01-02   262.810042  \n",
       "2013-01-01     0.000000  \n",
       "\n",
       "[1017209 rows x 18 columns]"
      ]
     },
     "execution_count": 90,
     "metadata": {},
     "output_type": "execute_result"
    }
   ],
   "source": [
    "itemsA= train_store[train_store['n_itemsA']==]\n",
    "itemsA['Date'] = pd.to_datetime(stores_type_['Date'])\n",
    "itemsA= itemsA.groupby('Date').sum()\n",
    "itemsA =itemsA.resample('W-Fri').agg({'Sales':np.sum})"
   ]
  },
  {
   "cell_type": "code",
   "execution_count": null,
   "id": "d58008e3-dd94-46bb-9f2a-56c06178f6b6",
   "metadata": {},
   "outputs": [],
   "source": []
  }
 ],
 "metadata": {
  "kernelspec": {
   "display_name": "Python 3 (ipykernel)",
   "language": "python",
   "name": "python3"
  },
  "language_info": {
   "codemirror_mode": {
    "name": "ipython",
    "version": 3
   },
   "file_extension": ".py",
   "mimetype": "text/x-python",
   "name": "python",
   "nbconvert_exporter": "python",
   "pygments_lexer": "ipython3",
   "version": "3.8.10"
  }
 },
 "nbformat": 4,
 "nbformat_minor": 5
}
