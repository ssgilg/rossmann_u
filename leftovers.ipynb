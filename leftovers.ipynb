{
 "cells": [
  {
   "cell_type": "markdown",
   "id": "5ea02130-421c-481a-883e-5f0f8d861b9a",
   "metadata": {
    "tags": []
   },
   "source": [
    "## Prediction with Prophet (daily basis)\n"
   ]
  },
  {
   "cell_type": "code",
   "execution_count": 442,
   "id": "932d34fb-5503-4d99-9e97-7d559fbf58a1",
   "metadata": {},
   "outputs": [],
   "source": [
    "#df = pd.read_csv(\"data/train.csv\",  \n",
    "#                    low_memory = False)\n",
    "\n",
    "train = pd.read_csv(\"data/train.csv\", \n",
    "                    parse_dates = True, low_memory = False, index_col = 'Date')\n",
    "df['SalesPerCustomer'] = df['Sales']/df['Customers']"
   ]
  },
  {
   "cell_type": "code",
   "execution_count": null,
   "id": "3961d8fa-86cc-428a-b9dc-8f024a5ebbf6",
   "metadata": {},
   "outputs": [],
   "source": [
    "Steps are described below but have been automtized to predict and plot for any store in the list A \n",
    "\n",
    "Let us say that we want to make prediction for store no. 122"
   ]
  },
  {
   "cell_type": "code",
   "execution_count": null,
   "id": "951c4bd3-fd03-402f-8e61-95b02bdd1f3a",
   "metadata": {},
   "outputs": [],
   "source": [
    "before proceding with forecast let us visualize the two time series for different stores"
   ]
  },
  {
   "cell_type": "code",
   "execution_count": null,
   "id": "61f7260d-d3cc-407d-aedf-183eda9ae706",
   "metadata": {},
   "outputs": [],
   "source": [
    "plot_sundays_nonsundays(df_122,df_3, \"Sales\")"
   ]
  },
  {
   "cell_type": "code",
   "execution_count": null,
   "id": "04dae4b0-a9c9-476e-a61d-0f64eddddb46",
   "metadata": {},
   "outputs": [],
   "source": [
    "df_122 = df[df['Store'] == 122].loc[:,['Date', 'SalesPerCustomer']] # Store type A\n",
    "df_122 = df_122.sort_index(ascending = False)\n",
    "df_122['Date'] = pd.DatetimeIndex(df_122['Date'])\n",
    "sales = df_122.rename(columns = {'Date': 'ds', 'SalesPerCustomer': 'y'})\n",
    "sales = sales.fillna(0)"
   ]
  },
  {
   "cell_type": "code",
   "execution_count": null,
   "id": "195725b2-8860-4df4-b23c-e1c1712a1212",
   "metadata": {},
   "outputs": [],
   "source": [
    "plot_single_ts_store_a(sales, 122)"
   ]
  },
  {
   "cell_type": "code",
   "execution_count": null,
   "id": "6b0dd53a-a47d-486b-800d-a8eefb62cd4e",
   "metadata": {},
   "outputs": [],
   "source": [
    "# create holidays dataframe\n",
    "\n",
    "df = pd.read_csv(\"data/train.csv\", \n",
    "                    parse_dates = True, low_memory = False)\n",
    "state_dates = df[(df.StateHoliday == 'a') | (df.StateHoliday == 'b') & (df.StateHoliday == 'c')].loc[:, 'Date'].values\n",
    "school_dates = df[df.SchoolHoliday == 1].loc[:, 'Date'].values\n",
    "\n",
    "state = pd.DataFrame({'holiday': 'state_holiday',\n",
    "                      'ds': pd.to_datetime(state_dates)})\n",
    "school = pd.DataFrame({'holiday': 'school_holiday',\n",
    "                      'ds': pd.to_datetime(school_dates)})\n",
    "\n",
    "holidays = pd.concat((state, school))  "
   ]
  },
  {
   "cell_type": "code",
   "execution_count": null,
   "id": "36ca1289-4434-4b14-9e72-4ce1e49e1dd7",
   "metadata": {},
   "outputs": [],
   "source": [
    "holidays.to_csv('holidays.csv')"
   ]
  },
  {
   "cell_type": "code",
   "execution_count": null,
   "id": "ec4e4a9b-da0d-4284-8d12-03f6469621d5",
   "metadata": {},
   "outputs": [],
   "source": [
    "# set the uncertainty interval to 95% (the Prophet default is 80%)\n",
    "my_model = Prophet(interval_width = 0.95, \n",
    "                         holidays = holidays)\n",
    "my_model.fit(sales)\n",
    "\n",
    "# dataframe that extends into future 3 weeks \n",
    "future_dates = my_model.make_future_dataframe(periods = 3*7)\n",
    "\n",
    "print(\"First week to forecast.\")\n",
    "future_dates.tail(7)"
   ]
  },
  {
   "cell_type": "markdown",
   "id": "4ab35363-ae21-4549-8b85-13d53ce195cf",
   "metadata": {},
   "source": [
    "## Prediction using payment type\n",
    "\n"
   ]
  },
  {
   "cell_type": "code",
   "execution_count": null,
   "id": "b7259a31-d456-4869-87de-eb94a4f5c28a",
   "metadata": {},
   "outputs": [],
   "source": [
    "df2_122 =  df2[df2['Store'] == 122]\n",
    "df2_122 = df2_122.sort_index(ascending = False)"
   ]
  },
  {
   "cell_type": "code",
   "execution_count": null,
   "id": "d6254859-2b4c-449b-a8a4-8f202028bdda",
   "metadata": {},
   "outputs": [],
   "source": [
    "fig = go.Figure()\n",
    "fig.add_trace(go.Scatter(x = df2_122['Date'],    y = df2_122['cash']  , name = \"cash\" ))\n",
    "fig.add_trace(go.Scatter(x = df2_122['Date'],    y = df2_122['girocard']  , name = \"giro\"))\n",
    "fig.update_xaxes(rangeslider_visible=True)\n",
    "fig.update_layout(xaxis_title = \"Date\",\n",
    "                  yaxis_title = '# of Transactions',\n",
    "                  title = \" TRansaction in store 122\",\n",
    "                  height = 400)\n",
    "\n",
    "fig.show()"
   ]
  },
  {
   "cell_type": "code",
   "execution_count": null,
   "id": "03b28522-1a75-4171-be77-44aeb8e0ade7",
   "metadata": {},
   "outputs": [],
   "source": [
    "a_,b_,c_,d_ = make_individual_prediction(df2, 'cash', 122, holidays)"
   ]
  },
  {
   "cell_type": "code",
   "execution_count": null,
   "id": "a6cd6510-36b6-4b76-994a-051b31385c92",
   "metadata": {},
   "outputs": [],
   "source": [
    "plot_individual_store_prediction(a_,b_, 122, 'cash')\n",
    "# To do:\n",
    "#    - fix labes   y: # transactions\n",
    "#                   title: # transactions in cash - store 122 "
   ]
  },
  {
   "cell_type": "code",
   "execution_count": null,
   "id": "917cda3c-daef-451a-bde6-c8bd943498fb",
   "metadata": {},
   "outputs": [],
   "source": [
    "a_giro,b_giro,c_giro ,d_giro = make_individual_prediction(df2, 'girocard', 122, holidays)"
   ]
  },
  {
   "cell_type": "code",
   "execution_count": null,
   "id": "e041c074-47a5-472c-a5a8-d705fe4bd35c",
   "metadata": {},
   "outputs": [],
   "source": [
    "plot_individual_store_prediction(a_giro,b_giro, 122, 'girocard')"
   ]
  }
 ],
 "metadata": {
  "kernelspec": {
   "display_name": "Python 3 (ipykernel)",
   "language": "python",
   "name": "python3"
  },
  "language_info": {
   "codemirror_mode": {
    "name": "ipython",
    "version": 3
   },
   "file_extension": ".py",
   "mimetype": "text/x-python",
   "name": "python",
   "nbconvert_exporter": "python",
   "pygments_lexer": "ipython3",
   "version": "3.8.10"
  }
 },
 "nbformat": 4,
 "nbformat_minor": 5
}
